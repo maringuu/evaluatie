{
 "cells": [
  {
   "cell_type": "markdown",
   "metadata": {},
   "source": [
    "# Approach Evaluation\n",
    "\n",
    "In this notebook, we evaluate the performance of our approach."
   ]
  },
  {
   "cell_type": "code",
   "execution_count": 1,
   "metadata": {},
   "outputs": [],
   "source": [
    "import rich.pretty\n",
    "\n",
    "rich.pretty.install()"
   ]
  },
  {
   "cell_type": "code",
   "execution_count": 2,
   "metadata": {},
   "outputs": [],
   "source": [
    "import IPython.display"
   ]
  },
  {
   "cell_type": "code",
   "execution_count": 3,
   "metadata": {},
   "outputs": [],
   "source": [
    "import pandas as pd\n",
    "import seaborn as sns\n",
    "import matplotlib as mpl\n",
    "from matplotlib import pyplot as plt\n",
    "import numpy as np\n",
    "import sklearn.metrics\n",
    "from sklearn.metrics import RocCurveDisplay\n",
    "import sqlalchemy as sa\n",
    "from sklearn.metrics import roc_curve\n",
    "import msgspec\n",
    "import itertools\n",
    "import pathlib as pl\n",
    "import networkx as nx\n",
    "import tqdm"
   ]
  },
  {
   "cell_type": "code",
   "execution_count": 4,
   "metadata": {},
   "outputs": [],
   "source": [
    "from evaluatie import models as m\n",
    "from evaluatie import utils\n",
    "from evaluatie.data import FunctionDataset, DatasetOptions"
   ]
  },
  {
   "cell_type": "code",
   "execution_count": 5,
   "metadata": {},
   "outputs": [],
   "source": [
    "mpl.rc(\n",
    "    \"font\",\n",
    "    size=12,\n",
    ")"
   ]
  },
  {
   "cell_type": "code",
   "execution_count": 6,
   "metadata": {},
   "outputs": [],
   "source": [
    "def create_table(dataset: FunctionDataset, score_col: str) -> pd.DataFrame:\n",
    "    categories = [\"low\", \"medium\", \"high\", \"all\"]\n",
    "\n",
    "    tbl = pd.DataFrame(\n",
    "        index=pd.Index(\n",
    "            categories,\n",
    "            name=\"neighborhood_size\",\n",
    "        ),\n",
    "        columns=pd.Index(\n",
    "            categories,\n",
    "            name=\"size\",\n",
    "        ),\n",
    "    )\n",
    "\n",
    "    for size, neighborhood_size in itertools.product(categories, categories):\n",
    "        options = DatasetOptions(\n",
    "            size=size,\n",
    "            neighborhood_size=neighborhood_size,\n",
    "        )\n",
    "        subset_df = dataset.frame[options.indexer(dataset.frame)]\n",
    "\n",
    "        fpr, tpr, threshholds = roc_curve(\n",
    "            y_score=subset_df[score_col],\n",
    "            y_true=subset_df[\"label\"],\n",
    "        )\n",
    "\n",
    "        tbl.loc[neighborhood_size, size] = sklearn.metrics.auc(fpr, tpr)\n",
    "\n",
    "    return tbl"
   ]
  },
  {
   "cell_type": "code",
   "execution_count": 7,
   "metadata": {},
   "outputs": [],
   "source": [
    "def dataset_subsample(d: FunctionDataset) -> FunctionDataset:\n",
    "    return FunctionDataset(\n",
    "        name=d.name,\n",
    "        frame=d.frame.groupby(\n",
    "            by=[\n",
    "                \"qsize\",\n",
    "                \"qneighborhood_size\",\n",
    "            ]\n",
    "        ).sample(\n",
    "            n=1_000,\n",
    "            random_state=0,\n",
    "        ),\n",
    "    )"
   ]
  },
  {
   "cell_type": "markdown",
   "metadata": {},
   "source": [
    "## BSim"
   ]
  },
  {
   "cell_type": "code",
   "execution_count": null,
   "metadata": {},
   "outputs": [],
   "source": [
    "d = FunctionDataset.from_name(\"f:o0Xo2\")\n",
    "create_table(d, score_col=\"bsim\")"
   ]
  },
  {
   "cell_type": "code",
   "execution_count": null,
   "metadata": {},
   "outputs": [],
   "source": [
    "d = FunctionDataset.from_name(\"f:o0Xo3\")\n",
    "create_table(d, score_col=\"bsim\")"
   ]
  },
  {
   "cell_type": "code",
   "execution_count": null,
   "metadata": {},
   "outputs": [],
   "source": [
    "d = FunctionDataset.from_name(\"f:osXo0\")\n",
    "create_table(d, score_col=\"bsim\")"
   ]
  },
  {
   "cell_type": "code",
   "execution_count": null,
   "metadata": {},
   "outputs": [],
   "source": [
    "d = FunctionDataset.from_name(\"f:osXo2\")\n",
    "create_table(d, score_col=\"bsim\")"
   ]
  },
  {
   "cell_type": "code",
   "execution_count": null,
   "metadata": {},
   "outputs": [],
   "source": [
    "d = FunctionDataset.from_name(\"f:noinlineXinline\")\n",
    "create_table(d, score_col=\"bsim\")"
   ]
  },
  {
   "cell_type": "code",
   "execution_count": null,
   "metadata": {},
   "outputs": [],
   "source": [
    "d = FunctionDataset.from_name(\"f:x86Xarm\")\n",
    "create_table(d, score_col=\"bsim\")"
   ]
  },
  {
   "cell_type": "code",
   "execution_count": null,
   "metadata": {},
   "outputs": [],
   "source": [
    "d = FunctionDataset.from_name(\"f:armXmips\")\n",
    "create_table(d, score_col=\"bsim\")"
   ]
  },
  {
   "cell_type": "code",
   "execution_count": null,
   "metadata": {},
   "outputs": [],
   "source": [
    "d = FunctionDataset.from_name(\"f:x86Xmips\")\n",
    "create_table(d, score_col=\"bsim\")"
   ]
  },
  {
   "cell_type": "code",
   "execution_count": null,
   "metadata": {},
   "outputs": [],
   "source": [
    "d = FunctionDataset.from_name(\"f:malware-analysis\")\n",
    "create_table(d, score_col=\"bsim\")"
   ]
  },
  {
   "cell_type": "code",
   "execution_count": null,
   "metadata": {},
   "outputs": [],
   "source": [
    "d = FunctionDataset.from_name(\"f:firmware-analysis\")\n",
    "create_table(d, score_col=\"bsim\")"
   ]
  },
  {
   "cell_type": "code",
   "execution_count": null,
   "metadata": {},
   "outputs": [],
   "source": [
    "d = FunctionDataset.from_name(\"f:random\")\n",
    "create_table(d, score_col=\"bsim\")"
   ]
  },
  {
   "cell_type": "markdown",
   "metadata": {},
   "source": [
    "## NeighBSim Evaluation"
   ]
  },
  {
   "cell_type": "code",
   "execution_count": 8,
   "metadata": {},
   "outputs": [],
   "source": [
    "name2dataset: dict[str, FunctionDataset] = {}"
   ]
  },
  {
   "cell_type": "code",
   "execution_count": 9,
   "metadata": {},
   "outputs": [],
   "source": [
    "names = [\n",
    "    # Usecases\n",
    "    # \"f:firmware-analysis\",\n",
    "    # \"f:malware-analysis\",\n",
    "    # \"f:random\",\n",
    "    # Optimisation\n",
    "    # \"f:o0Xo2\",\n",
    "    # \"f:o0Xo3\",\n",
    "    \"f:osXo0\",\n",
    "    \"f:osXo2\",\n",
    "    \"f:osXo3\",\n",
    "    # Architecture\n",
    "    # \"f:armXmips\",\n",
    "    # \"f:x86Xarm\",\n",
    "    # \"f:x86Xmips\",\n",
    "    # Inlining\n",
    "    # \"f:noinlineXinline\",\n",
    "]"
   ]
  },
  {
   "cell_type": "code",
   "execution_count": 10,
   "metadata": {},
   "outputs": [],
   "source": [
    "for name in names:\n",
    "    d = FunctionDataset.from_name(name)\n",
    "    d = d.load_pickle()\n",
    "    d = d.dropna()\n",
    "\n",
    "    name2dataset[name] = d"
   ]
  },
  {
   "cell_type": "code",
   "execution_count": 11,
   "metadata": {},
   "outputs": [
    {
     "data": {
      "text/html": [
       "<pre style=\"white-space:pre;overflow-x:auto;line-height:normal;font-family:Menlo,'DejaVu Sans Mono',consolas,'Courier New',monospace\"></pre>\n"
      ],
      "text/plain": []
     },
     "metadata": {},
     "output_type": "display_data"
    },
    {
     "data": {
      "text/plain": [
       "\u001b[32m'f:osXo0 -- NeighBSim'\u001b[0m"
      ]
     },
     "metadata": {},
     "output_type": "display_data"
    },
    {
     "data": {
      "text/html": [
       "<pre style=\"white-space:pre;overflow-x:auto;line-height:normal;font-family:Menlo,'DejaVu Sans Mono',consolas,'Courier New',monospace\"></pre>\n"
      ],
      "text/plain": []
     },
     "metadata": {},
     "output_type": "display_data"
    },
    {
     "data": {
      "text/html": [
       "<div>\n",
       "<style scoped>\n",
       "    .dataframe tbody tr th:only-of-type {\n",
       "        vertical-align: middle;\n",
       "    }\n",
       "\n",
       "    .dataframe tbody tr th {\n",
       "        vertical-align: top;\n",
       "    }\n",
       "\n",
       "    .dataframe thead th {\n",
       "        text-align: right;\n",
       "    }\n",
       "</style>\n",
       "<table border=\"1\" class=\"dataframe\">\n",
       "  <thead>\n",
       "    <tr style=\"text-align: right;\">\n",
       "      <th>size</th>\n",
       "      <th>low</th>\n",
       "      <th>medium</th>\n",
       "      <th>high</th>\n",
       "      <th>all</th>\n",
       "    </tr>\n",
       "    <tr>\n",
       "      <th>neighborhood_size</th>\n",
       "      <th></th>\n",
       "      <th></th>\n",
       "      <th></th>\n",
       "      <th></th>\n",
       "    </tr>\n",
       "  </thead>\n",
       "  <tbody>\n",
       "    <tr>\n",
       "      <th>low</th>\n",
       "      <td>0.887699</td>\n",
       "      <td>0.827094</td>\n",
       "      <td>0.787067</td>\n",
       "      <td>0.841722</td>\n",
       "    </tr>\n",
       "    <tr>\n",
       "      <th>medium</th>\n",
       "      <td>0.991338</td>\n",
       "      <td>0.995458</td>\n",
       "      <td>0.988409</td>\n",
       "      <td>0.991939</td>\n",
       "    </tr>\n",
       "    <tr>\n",
       "      <th>high</th>\n",
       "      <td>0.99275</td>\n",
       "      <td>0.99752</td>\n",
       "      <td>0.993819</td>\n",
       "      <td>0.994618</td>\n",
       "    </tr>\n",
       "    <tr>\n",
       "      <th>all</th>\n",
       "      <td>0.952476</td>\n",
       "      <td>0.944784</td>\n",
       "      <td>0.936519</td>\n",
       "      <td>0.944993</td>\n",
       "    </tr>\n",
       "  </tbody>\n",
       "</table>\n",
       "</div>"
      ],
      "text/plain": [
       "\n",
       "size                    low    medium      high       all\n",
       "neighborhood_size                                        \n",
       "low                \u001b[1;36m0.887699\u001b[0m  \u001b[1;36m0.827094\u001b[0m  \u001b[1;36m0.787067\u001b[0m  \u001b[1;36m0.841722\u001b[0m\n",
       "medium             \u001b[1;36m0.991338\u001b[0m  \u001b[1;36m0.995458\u001b[0m  \u001b[1;36m0.988409\u001b[0m  \u001b[1;36m0.991939\u001b[0m\n",
       "high                \u001b[1;36m0.99275\u001b[0m   \u001b[1;36m0.99752\u001b[0m  \u001b[1;36m0.993819\u001b[0m  \u001b[1;36m0.994618\u001b[0m\n",
       "all                \u001b[1;36m0.952476\u001b[0m  \u001b[1;36m0.944784\u001b[0m  \u001b[1;36m0.936519\u001b[0m  \u001b[1;36m0.944993\u001b[0m"
      ]
     },
     "metadata": {},
     "output_type": "display_data"
    },
    {
     "data": {
      "text/html": [
       "<pre style=\"white-space:pre;overflow-x:auto;line-height:normal;font-family:Menlo,'DejaVu Sans Mono',consolas,'Courier New',monospace\"></pre>\n"
      ],
      "text/plain": []
     },
     "metadata": {},
     "output_type": "display_data"
    },
    {
     "data": {
      "text/plain": [
       "\u001b[32m'f:osXo0 -- BSim'\u001b[0m"
      ]
     },
     "metadata": {},
     "output_type": "display_data"
    },
    {
     "data": {
      "text/html": [
       "<pre style=\"white-space:pre;overflow-x:auto;line-height:normal;font-family:Menlo,'DejaVu Sans Mono',consolas,'Courier New',monospace\"></pre>\n"
      ],
      "text/plain": []
     },
     "metadata": {},
     "output_type": "display_data"
    },
    {
     "data": {
      "text/html": [
       "<div>\n",
       "<style scoped>\n",
       "    .dataframe tbody tr th:only-of-type {\n",
       "        vertical-align: middle;\n",
       "    }\n",
       "\n",
       "    .dataframe tbody tr th {\n",
       "        vertical-align: top;\n",
       "    }\n",
       "\n",
       "    .dataframe thead th {\n",
       "        text-align: right;\n",
       "    }\n",
       "</style>\n",
       "<table border=\"1\" class=\"dataframe\">\n",
       "  <thead>\n",
       "    <tr style=\"text-align: right;\">\n",
       "      <th>size</th>\n",
       "      <th>low</th>\n",
       "      <th>medium</th>\n",
       "      <th>high</th>\n",
       "      <th>all</th>\n",
       "    </tr>\n",
       "    <tr>\n",
       "      <th>neighborhood_size</th>\n",
       "      <th></th>\n",
       "      <th></th>\n",
       "      <th></th>\n",
       "      <th></th>\n",
       "    </tr>\n",
       "  </thead>\n",
       "  <tbody>\n",
       "    <tr>\n",
       "      <th>low</th>\n",
       "      <td>0.892946</td>\n",
       "      <td>0.837485</td>\n",
       "      <td>0.80352</td>\n",
       "      <td>0.853056</td>\n",
       "    </tr>\n",
       "    <tr>\n",
       "      <th>medium</th>\n",
       "      <td>0.970475</td>\n",
       "      <td>0.984016</td>\n",
       "      <td>0.982683</td>\n",
       "      <td>0.978822</td>\n",
       "    </tr>\n",
       "    <tr>\n",
       "      <th>high</th>\n",
       "      <td>0.969267</td>\n",
       "      <td>0.990416</td>\n",
       "      <td>0.99041</td>\n",
       "      <td>0.9827</td>\n",
       "    </tr>\n",
       "    <tr>\n",
       "      <th>all</th>\n",
       "      <td>0.942983</td>\n",
       "      <td>0.942889</td>\n",
       "      <td>0.938672</td>\n",
       "      <td>0.941498</td>\n",
       "    </tr>\n",
       "  </tbody>\n",
       "</table>\n",
       "</div>"
      ],
      "text/plain": [
       "\n",
       "size                    low    medium      high       all\n",
       "neighborhood_size                                        \n",
       "low                \u001b[1;36m0.892946\u001b[0m  \u001b[1;36m0.837485\u001b[0m   \u001b[1;36m0.80352\u001b[0m  \u001b[1;36m0.853056\u001b[0m\n",
       "medium             \u001b[1;36m0.970475\u001b[0m  \u001b[1;36m0.984016\u001b[0m  \u001b[1;36m0.982683\u001b[0m  \u001b[1;36m0.978822\u001b[0m\n",
       "high               \u001b[1;36m0.969267\u001b[0m  \u001b[1;36m0.990416\u001b[0m   \u001b[1;36m0.99041\u001b[0m    \u001b[1;36m0.9827\u001b[0m\n",
       "all                \u001b[1;36m0.942983\u001b[0m  \u001b[1;36m0.942889\u001b[0m  \u001b[1;36m0.938672\u001b[0m  \u001b[1;36m0.941498\u001b[0m"
      ]
     },
     "metadata": {},
     "output_type": "display_data"
    },
    {
     "data": {
      "text/html": [
       "<pre style=\"white-space:pre;overflow-x:auto;line-height:normal;font-family:Menlo,'DejaVu Sans Mono',consolas,'Courier New',monospace\"></pre>\n"
      ],
      "text/plain": []
     },
     "metadata": {},
     "output_type": "display_data"
    },
    {
     "data": {
      "text/plain": [
       "\u001b[32m'f:osXo2 -- NeighBSim'\u001b[0m"
      ]
     },
     "metadata": {},
     "output_type": "display_data"
    },
    {
     "data": {
      "text/html": [
       "<pre style=\"white-space:pre;overflow-x:auto;line-height:normal;font-family:Menlo,'DejaVu Sans Mono',consolas,'Courier New',monospace\"></pre>\n"
      ],
      "text/plain": []
     },
     "metadata": {},
     "output_type": "display_data"
    },
    {
     "data": {
      "text/html": [
       "<div>\n",
       "<style scoped>\n",
       "    .dataframe tbody tr th:only-of-type {\n",
       "        vertical-align: middle;\n",
       "    }\n",
       "\n",
       "    .dataframe tbody tr th {\n",
       "        vertical-align: top;\n",
       "    }\n",
       "\n",
       "    .dataframe thead th {\n",
       "        text-align: right;\n",
       "    }\n",
       "</style>\n",
       "<table border=\"1\" class=\"dataframe\">\n",
       "  <thead>\n",
       "    <tr style=\"text-align: right;\">\n",
       "      <th>size</th>\n",
       "      <th>low</th>\n",
       "      <th>medium</th>\n",
       "      <th>high</th>\n",
       "      <th>all</th>\n",
       "    </tr>\n",
       "    <tr>\n",
       "      <th>neighborhood_size</th>\n",
       "      <th></th>\n",
       "      <th></th>\n",
       "      <th></th>\n",
       "      <th></th>\n",
       "    </tr>\n",
       "  </thead>\n",
       "  <tbody>\n",
       "    <tr>\n",
       "      <th>low</th>\n",
       "      <td>0.865297</td>\n",
       "      <td>0.853656</td>\n",
       "      <td>0.796358</td>\n",
       "      <td>0.841856</td>\n",
       "    </tr>\n",
       "    <tr>\n",
       "      <th>medium</th>\n",
       "      <td>0.988227</td>\n",
       "      <td>0.993658</td>\n",
       "      <td>0.993264</td>\n",
       "      <td>0.991246</td>\n",
       "    </tr>\n",
       "    <tr>\n",
       "      <th>high</th>\n",
       "      <td>0.994083</td>\n",
       "      <td>0.997363</td>\n",
       "      <td>0.997216</td>\n",
       "      <td>0.996209</td>\n",
       "    </tr>\n",
       "    <tr>\n",
       "      <th>all</th>\n",
       "      <td>0.943231</td>\n",
       "      <td>0.951383</td>\n",
       "      <td>0.93667</td>\n",
       "      <td>0.943575</td>\n",
       "    </tr>\n",
       "  </tbody>\n",
       "</table>\n",
       "</div>"
      ],
      "text/plain": [
       "\n",
       "size                    low    medium      high       all\n",
       "neighborhood_size                                        \n",
       "low                \u001b[1;36m0.865297\u001b[0m  \u001b[1;36m0.853656\u001b[0m  \u001b[1;36m0.796358\u001b[0m  \u001b[1;36m0.841856\u001b[0m\n",
       "medium             \u001b[1;36m0.988227\u001b[0m  \u001b[1;36m0.993658\u001b[0m  \u001b[1;36m0.993264\u001b[0m  \u001b[1;36m0.991246\u001b[0m\n",
       "high               \u001b[1;36m0.994083\u001b[0m  \u001b[1;36m0.997363\u001b[0m  \u001b[1;36m0.997216\u001b[0m  \u001b[1;36m0.996209\u001b[0m\n",
       "all                \u001b[1;36m0.943231\u001b[0m  \u001b[1;36m0.951383\u001b[0m   \u001b[1;36m0.93667\u001b[0m  \u001b[1;36m0.943575\u001b[0m"
      ]
     },
     "metadata": {},
     "output_type": "display_data"
    },
    {
     "data": {
      "text/html": [
       "<pre style=\"white-space:pre;overflow-x:auto;line-height:normal;font-family:Menlo,'DejaVu Sans Mono',consolas,'Courier New',monospace\"></pre>\n"
      ],
      "text/plain": []
     },
     "metadata": {},
     "output_type": "display_data"
    },
    {
     "data": {
      "text/plain": [
       "\u001b[32m'f:osXo2 -- BSim'\u001b[0m"
      ]
     },
     "metadata": {},
     "output_type": "display_data"
    },
    {
     "data": {
      "text/html": [
       "<pre style=\"white-space:pre;overflow-x:auto;line-height:normal;font-family:Menlo,'DejaVu Sans Mono',consolas,'Courier New',monospace\"></pre>\n"
      ],
      "text/plain": []
     },
     "metadata": {},
     "output_type": "display_data"
    },
    {
     "data": {
      "text/html": [
       "<div>\n",
       "<style scoped>\n",
       "    .dataframe tbody tr th:only-of-type {\n",
       "        vertical-align: middle;\n",
       "    }\n",
       "\n",
       "    .dataframe tbody tr th {\n",
       "        vertical-align: top;\n",
       "    }\n",
       "\n",
       "    .dataframe thead th {\n",
       "        text-align: right;\n",
       "    }\n",
       "</style>\n",
       "<table border=\"1\" class=\"dataframe\">\n",
       "  <thead>\n",
       "    <tr style=\"text-align: right;\">\n",
       "      <th>size</th>\n",
       "      <th>low</th>\n",
       "      <th>medium</th>\n",
       "      <th>high</th>\n",
       "      <th>all</th>\n",
       "    </tr>\n",
       "    <tr>\n",
       "      <th>neighborhood_size</th>\n",
       "      <th></th>\n",
       "      <th></th>\n",
       "      <th></th>\n",
       "      <th></th>\n",
       "    </tr>\n",
       "  </thead>\n",
       "  <tbody>\n",
       "    <tr>\n",
       "      <th>low</th>\n",
       "      <td>0.877424</td>\n",
       "      <td>0.860679</td>\n",
       "      <td>0.814956</td>\n",
       "      <td>0.853211</td>\n",
       "    </tr>\n",
       "    <tr>\n",
       "      <th>medium</th>\n",
       "      <td>0.974675</td>\n",
       "      <td>0.987163</td>\n",
       "      <td>0.990502</td>\n",
       "      <td>0.982047</td>\n",
       "    </tr>\n",
       "    <tr>\n",
       "      <th>high</th>\n",
       "      <td>0.976283</td>\n",
       "      <td>0.99077</td>\n",
       "      <td>0.995921</td>\n",
       "      <td>0.986706</td>\n",
       "    </tr>\n",
       "    <tr>\n",
       "      <th>all</th>\n",
       "      <td>0.941257</td>\n",
       "      <td>0.950206</td>\n",
       "      <td>0.94105</td>\n",
       "      <td>0.942685</td>\n",
       "    </tr>\n",
       "  </tbody>\n",
       "</table>\n",
       "</div>"
      ],
      "text/plain": [
       "\n",
       "size                    low    medium      high       all\n",
       "neighborhood_size                                        \n",
       "low                \u001b[1;36m0.877424\u001b[0m  \u001b[1;36m0.860679\u001b[0m  \u001b[1;36m0.814956\u001b[0m  \u001b[1;36m0.853211\u001b[0m\n",
       "medium             \u001b[1;36m0.974675\u001b[0m  \u001b[1;36m0.987163\u001b[0m  \u001b[1;36m0.990502\u001b[0m  \u001b[1;36m0.982047\u001b[0m\n",
       "high               \u001b[1;36m0.976283\u001b[0m   \u001b[1;36m0.99077\u001b[0m  \u001b[1;36m0.995921\u001b[0m  \u001b[1;36m0.986706\u001b[0m\n",
       "all                \u001b[1;36m0.941257\u001b[0m  \u001b[1;36m0.950206\u001b[0m   \u001b[1;36m0.94105\u001b[0m  \u001b[1;36m0.942685\u001b[0m"
      ]
     },
     "metadata": {},
     "output_type": "display_data"
    },
    {
     "data": {
      "text/html": [
       "<pre style=\"white-space:pre;overflow-x:auto;line-height:normal;font-family:Menlo,'DejaVu Sans Mono',consolas,'Courier New',monospace\"></pre>\n"
      ],
      "text/plain": []
     },
     "metadata": {},
     "output_type": "display_data"
    },
    {
     "data": {
      "text/plain": [
       "\u001b[32m'f:osXo3 -- NeighBSim'\u001b[0m"
      ]
     },
     "metadata": {},
     "output_type": "display_data"
    },
    {
     "data": {
      "text/html": [
       "<pre style=\"white-space:pre;overflow-x:auto;line-height:normal;font-family:Menlo,'DejaVu Sans Mono',consolas,'Courier New',monospace\"></pre>\n"
      ],
      "text/plain": []
     },
     "metadata": {},
     "output_type": "display_data"
    },
    {
     "data": {
      "text/html": [
       "<div>\n",
       "<style scoped>\n",
       "    .dataframe tbody tr th:only-of-type {\n",
       "        vertical-align: middle;\n",
       "    }\n",
       "\n",
       "    .dataframe tbody tr th {\n",
       "        vertical-align: top;\n",
       "    }\n",
       "\n",
       "    .dataframe thead th {\n",
       "        text-align: right;\n",
       "    }\n",
       "</style>\n",
       "<table border=\"1\" class=\"dataframe\">\n",
       "  <thead>\n",
       "    <tr style=\"text-align: right;\">\n",
       "      <th>size</th>\n",
       "      <th>low</th>\n",
       "      <th>medium</th>\n",
       "      <th>high</th>\n",
       "      <th>all</th>\n",
       "    </tr>\n",
       "    <tr>\n",
       "      <th>neighborhood_size</th>\n",
       "      <th></th>\n",
       "      <th></th>\n",
       "      <th></th>\n",
       "      <th></th>\n",
       "    </tr>\n",
       "  </thead>\n",
       "  <tbody>\n",
       "    <tr>\n",
       "      <th>low</th>\n",
       "      <td>0.844969</td>\n",
       "      <td>0.845985</td>\n",
       "      <td>0.782161</td>\n",
       "      <td>0.825797</td>\n",
       "    </tr>\n",
       "    <tr>\n",
       "      <th>medium</th>\n",
       "      <td>0.962472</td>\n",
       "      <td>0.983202</td>\n",
       "      <td>0.986983</td>\n",
       "      <td>0.976621</td>\n",
       "    </tr>\n",
       "    <tr>\n",
       "      <th>high</th>\n",
       "      <td>0.987175</td>\n",
       "      <td>0.993567</td>\n",
       "      <td>0.993922</td>\n",
       "      <td>0.991633</td>\n",
       "    </tr>\n",
       "    <tr>\n",
       "      <th>all</th>\n",
       "      <td>0.923595</td>\n",
       "      <td>0.946038</td>\n",
       "      <td>0.927432</td>\n",
       "      <td>0.931426</td>\n",
       "    </tr>\n",
       "  </tbody>\n",
       "</table>\n",
       "</div>"
      ],
      "text/plain": [
       "\n",
       "size                    low    medium      high       all\n",
       "neighborhood_size                                        \n",
       "low                \u001b[1;36m0.844969\u001b[0m  \u001b[1;36m0.845985\u001b[0m  \u001b[1;36m0.782161\u001b[0m  \u001b[1;36m0.825797\u001b[0m\n",
       "medium             \u001b[1;36m0.962472\u001b[0m  \u001b[1;36m0.983202\u001b[0m  \u001b[1;36m0.986983\u001b[0m  \u001b[1;36m0.976621\u001b[0m\n",
       "high               \u001b[1;36m0.987175\u001b[0m  \u001b[1;36m0.993567\u001b[0m  \u001b[1;36m0.993922\u001b[0m  \u001b[1;36m0.991633\u001b[0m\n",
       "all                \u001b[1;36m0.923595\u001b[0m  \u001b[1;36m0.946038\u001b[0m  \u001b[1;36m0.927432\u001b[0m  \u001b[1;36m0.931426\u001b[0m"
      ]
     },
     "metadata": {},
     "output_type": "display_data"
    },
    {
     "data": {
      "text/html": [
       "<pre style=\"white-space:pre;overflow-x:auto;line-height:normal;font-family:Menlo,'DejaVu Sans Mono',consolas,'Courier New',monospace\"></pre>\n"
      ],
      "text/plain": []
     },
     "metadata": {},
     "output_type": "display_data"
    },
    {
     "data": {
      "text/plain": [
       "\u001b[32m'f:osXo3 -- BSim'\u001b[0m"
      ]
     },
     "metadata": {},
     "output_type": "display_data"
    },
    {
     "data": {
      "text/html": [
       "<pre style=\"white-space:pre;overflow-x:auto;line-height:normal;font-family:Menlo,'DejaVu Sans Mono',consolas,'Courier New',monospace\"></pre>\n"
      ],
      "text/plain": []
     },
     "metadata": {},
     "output_type": "display_data"
    },
    {
     "data": {
      "text/html": [
       "<div>\n",
       "<style scoped>\n",
       "    .dataframe tbody tr th:only-of-type {\n",
       "        vertical-align: middle;\n",
       "    }\n",
       "\n",
       "    .dataframe tbody tr th {\n",
       "        vertical-align: top;\n",
       "    }\n",
       "\n",
       "    .dataframe thead th {\n",
       "        text-align: right;\n",
       "    }\n",
       "</style>\n",
       "<table border=\"1\" class=\"dataframe\">\n",
       "  <thead>\n",
       "    <tr style=\"text-align: right;\">\n",
       "      <th>size</th>\n",
       "      <th>low</th>\n",
       "      <th>medium</th>\n",
       "      <th>high</th>\n",
       "      <th>all</th>\n",
       "    </tr>\n",
       "    <tr>\n",
       "      <th>neighborhood_size</th>\n",
       "      <th></th>\n",
       "      <th></th>\n",
       "      <th></th>\n",
       "      <th></th>\n",
       "    </tr>\n",
       "  </thead>\n",
       "  <tbody>\n",
       "    <tr>\n",
       "      <th>low</th>\n",
       "      <td>0.853926</td>\n",
       "      <td>0.853514</td>\n",
       "      <td>0.803776</td>\n",
       "      <td>0.836995</td>\n",
       "    </tr>\n",
       "    <tr>\n",
       "      <th>medium</th>\n",
       "      <td>0.939018</td>\n",
       "      <td>0.972637</td>\n",
       "      <td>0.988239</td>\n",
       "      <td>0.962825</td>\n",
       "    </tr>\n",
       "    <tr>\n",
       "      <th>high</th>\n",
       "      <td>0.945782</td>\n",
       "      <td>0.980617</td>\n",
       "      <td>0.994963</td>\n",
       "      <td>0.972648</td>\n",
       "    </tr>\n",
       "    <tr>\n",
       "      <th>all</th>\n",
       "      <td>0.910771</td>\n",
       "      <td>0.940859</td>\n",
       "      <td>0.935871</td>\n",
       "      <td>0.92598</td>\n",
       "    </tr>\n",
       "  </tbody>\n",
       "</table>\n",
       "</div>"
      ],
      "text/plain": [
       "\n",
       "size                    low    medium      high       all\n",
       "neighborhood_size                                        \n",
       "low                \u001b[1;36m0.853926\u001b[0m  \u001b[1;36m0.853514\u001b[0m  \u001b[1;36m0.803776\u001b[0m  \u001b[1;36m0.836995\u001b[0m\n",
       "medium             \u001b[1;36m0.939018\u001b[0m  \u001b[1;36m0.972637\u001b[0m  \u001b[1;36m0.988239\u001b[0m  \u001b[1;36m0.962825\u001b[0m\n",
       "high               \u001b[1;36m0.945782\u001b[0m  \u001b[1;36m0.980617\u001b[0m  \u001b[1;36m0.994963\u001b[0m  \u001b[1;36m0.972648\u001b[0m\n",
       "all                \u001b[1;36m0.910771\u001b[0m  \u001b[1;36m0.940859\u001b[0m  \u001b[1;36m0.935871\u001b[0m   \u001b[1;36m0.92598\u001b[0m"
      ]
     },
     "metadata": {},
     "output_type": "display_data"
    }
   ],
   "source": [
    "for name, d in name2dataset.items():\n",
    "    neighbsim_table = create_table(d, score_col=\"neighbsim\")\n",
    "    IPython.display.display(f\"{name} -- NeighBSim\")\n",
    "    IPython.display.display(neighbsim_table)\n",
    "\n",
    "    bsim_table = create_table(d, score_col=\"bsim\")\n",
    "    IPython.display.display(f\"{name} -- BSim\")\n",
    "    IPython.display.display(bsim_table)"
   ]
  },
  {
   "cell_type": "code",
   "execution_count": 49,
   "metadata": {},
   "outputs": [],
   "source": [
    "bins = [\"low\", \"medium\", \"high\"]\n",
    "\n",
    "x = np.arange(len(bins) * len(name2dataset), step=len(name2dataset))\n",
    "inter_dataset_offset = 0.4\n",
    "intra_dataset_offset = 0.2"
   ]
  },
  {
   "cell_type": "code",
   "execution_count": 50,
   "metadata": {},
   "outputs": [],
   "source": [
    "markers = [\"o\", \"x\", \"1\", \"<\", \"D\"]"
   ]
  },
  {
   "cell_type": "code",
   "execution_count": 51,
   "metadata": {},
   "outputs": [],
   "source": [
    "bin2line = {\n",
    "    \"low\": \"dotted\",\n",
    "    \"medium\": (0, (3, 1, 1, 1)),\n",
    "    \"high\": \"solid\",\n",
    "}"
   ]
  },
  {
   "cell_type": "code",
   "execution_count": 52,
   "metadata": {},
   "outputs": [
    {
     "data": {
      "text/html": [
       "<pre style=\"white-space:pre;overflow-x:auto;line-height:normal;font-family:Menlo,'DejaVu Sans Mono',consolas,'Courier New',monospace\"></pre>\n"
      ],
      "text/plain": []
     },
     "metadata": {},
     "output_type": "display_data"
    },
    {
     "data": {
      "image/png": "[encoded data removed]",
      "text/plain": [
       "\u001b[1m<\u001b[0m\u001b[1;95mFigure\u001b[0m\u001b[39m size 80\u001b[0m\u001b[1;36m0x1200\u001b[0m\u001b[39m with \u001b[0m\u001b[1;36m1\u001b[0m\u001b[39m Axes\u001b[0m\u001b[1m>\u001b[0m"
      ]
     },
     "metadata": {},
     "output_type": "display_data"
    }
   ],
   "source": [
    "fig, ax = plt.subplots(\n",
    "    figsize=(8, 12),\n",
    ")"
   ]
  },
  {
   "cell_type": "code",
   "execution_count": 53,
   "metadata": {},
   "outputs": [],
   "source": [
    "marker_cycle = iter(markers)\n",
    "\n",
    "for i, dataset in enumerate(name2dataset.values()):\n",
    "    marker = next(marker_cycle)\n",
    "    bsim_table = create_table(dataset, \"bsim\").drop(columns=\"all\").drop(labels=\"all\")\n",
    "    neighbsim_table = create_table(dataset, \"neighbsim\").drop(columns=\"all\").drop(labels=\"all\")\n",
    "\n",
    "    dataset_offset = i * (inter_dataset_offset + 2 * intra_dataset_offset)\n",
    "\n",
    "    for j, size_bin in enumerate(bins):\n",
    "        offset = dataset_offset + j * intra_dataset_offset\n",
    "\n",
    "        bsim_auc = bsim_table[size_bin]\n",
    "        neighbsim_auc = neighbsim_table[size_bin]\n",
    "\n",
    "        ymin = np.where(bsim_auc < neighbsim_auc, bsim_auc, neighbsim_auc)\n",
    "        ymax = np.where(bsim_auc > neighbsim_auc, bsim_auc, neighbsim_auc)\n",
    "        ax.vlines(x + offset, ymin=ymin, ymax=ymax, colors=\"grey\", linestyles=bin2line[size_bin])\n",
    "\n",
    "        rects = ax.scatter(\n",
    "            x=x + offset,\n",
    "            y=bsim_auc,\n",
    "            # width=width,\n",
    "            label=size_bin,\n",
    "            color=\"mediumseagreen\",\n",
    "            alpha=1.0,\n",
    "            marker=marker,\n",
    "        )\n",
    "\n",
    "        rects = ax.scatter(\n",
    "            x=x + offset,\n",
    "            y=neighbsim_auc,\n",
    "            # width=width,\n",
    "            label=size_bin,\n",
    "            color=\"tomato\",\n",
    "            alpha=1.0,\n",
    "            marker=marker,\n",
    "        )"
   ]
  },
  {
   "cell_type": "code",
   "execution_count": 54,
   "metadata": {},
   "outputs": [
    {
     "data": {
      "text/html": [
       "<pre style=\"white-space:pre;overflow-x:auto;line-height:normal;font-family:Menlo,'DejaVu Sans Mono',consolas,'Courier New',monospace\"></pre>\n"
      ],
      "text/plain": []
     },
     "metadata": {},
     "output_type": "display_data"
    },
    {
     "data": {
      "image/png": "[encoded data removed]",
      "text/plain": [
       "\u001b[1m<\u001b[0m\u001b[1;95mFigure\u001b[0m\u001b[39m size 80\u001b[0m\u001b[1;36m0x1200\u001b[0m\u001b[39m with \u001b[0m\u001b[1;36m1\u001b[0m\u001b[39m Axes\u001b[0m\u001b[1m>\u001b[0m"
      ]
     },
     "execution_count": 54,
     "metadata": {},
     "output_type": "execute_result"
    }
   ],
   "source": [
    "fig"
   ]
  },
  {
   "cell_type": "code",
   "execution_count": null,
   "metadata": {},
   "outputs": [],
   "source": []
  }
 ],
 "metadata": {
  "kernelspec": {
   "display_name": "studeerwerk-evaluation-urcm250o-py3.12",
   "language": "python",
   "name": "python3"
  },
  "language_info": {
   "codemirror_mode": {
    "name": "ipython",
    "version": 3
   },
   "file_extension": ".py",
   "mimetype": "text/x-python",
   "name": "python",
   "nbconvert_exporter": "python",
   "pygments_lexer": "ipython3",
   "version": "3.12.4"
  }
 },
 "nbformat": 4,
 "nbformat_minor": 2
}
