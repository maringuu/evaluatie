{
 "cells": [
  {
   "cell_type": "markdown",
   "metadata": {},
   "source": [
    "# Approach Evaluation\n",
    "\n",
    "In this notebook, we evaluate the performance of our approach."
   ]
  },
  {
   "cell_type": "code",
   "execution_count": null,
   "metadata": {},
   "outputs": [],
   "source": [
    "import rich.pretty\n",
    "\n",
    "rich.pretty.install()"
   ]
  },
  {
   "cell_type": "code",
   "execution_count": null,
   "metadata": {},
   "outputs": [],
   "source": [
    "import IPython.display"
   ]
  },
  {
   "cell_type": "code",
   "execution_count": null,
   "metadata": {},
   "outputs": [],
   "source": [
    "import pandas as pd\n",
    "import seaborn as sns\n",
    "import matplotlib as mpl\n",
    "from matplotlib import pyplot as plt\n",
    "import numpy as np\n",
    "import sklearn.metrics\n",
    "from sklearn.metrics import RocCurveDisplay\n",
    "import sqlalchemy as sa\n",
    "from sklearn.metrics import roc_curve\n",
    "import msgspec\n",
    "import itertools\n",
    "import pathlib as pl\n",
    "import networkx as nx\n",
    "import tqdm"
   ]
  },
  {
   "cell_type": "code",
   "execution_count": null,
   "metadata": {},
   "outputs": [],
   "source": [
    "from evaluatie import models as m\n",
    "from evaluatie import utils\n",
    "from evaluatie.data import FunctionDataset, DatasetOptions"
   ]
  },
  {
   "cell_type": "code",
   "execution_count": null,
   "metadata": {},
   "outputs": [],
   "source": [
    "mpl.rc(\n",
    "    \"font\",\n",
    "    size=12,\n",
    ")"
   ]
  },
  {
   "cell_type": "code",
   "execution_count": null,
   "metadata": {},
   "outputs": [],
   "source": [
    "def create_table(dataset: FunctionDataset, score_col: str) -> pd.DataFrame:\n",
    "    categories = [\"low\", \"medium\", \"high\", \"all\"]\n",
    "\n",
    "    tbl = pd.DataFrame(\n",
    "        index=pd.Index(\n",
    "            categories,\n",
    "            name=\"neighborhood_size\",\n",
    "        ),\n",
    "        columns=pd.Index(\n",
    "            categories,\n",
    "            name=\"size\",\n",
    "        ),\n",
    "    )\n",
    "\n",
    "    for size, neighborhood_size in itertools.product(categories, categories):\n",
    "        options = DatasetOptions(\n",
    "            size=size,\n",
    "            neighborhood_size=neighborhood_size,\n",
    "        )\n",
    "        subset_df = dataset.frame[options.indexer(dataset.frame)]\n",
    "\n",
    "        fpr, tpr, threshholds = roc_curve(\n",
    "            y_score=subset_df[score_col],\n",
    "            y_true=subset_df[\"label\"],\n",
    "        )\n",
    "\n",
    "        tbl.loc[neighborhood_size, size] = sklearn.metrics.auc(fpr, tpr)\n",
    "\n",
    "    return tbl"
   ]
  },
  {
   "cell_type": "code",
   "execution_count": null,
   "metadata": {},
   "outputs": [],
   "source": [
    "def dataset_subsample(d: FunctionDataset) -> FunctionDataset:\n",
    "    return FunctionDataset(\n",
    "        name=d.name,\n",
    "        frame=d.frame.groupby(\n",
    "            by=[\n",
    "                \"qsize\",\n",
    "                \"qneighborhood_size\",\n",
    "            ]\n",
    "        ).sample(\n",
    "            n=1_000,\n",
    "            random_state=0,\n",
    "        ),\n",
    "    )"
   ]
  },
  {
   "cell_type": "markdown",
   "metadata": {},
   "source": [
    "## BSim"
   ]
  },
  {
   "cell_type": "code",
   "execution_count": null,
   "metadata": {},
   "outputs": [],
   "source": [
    "d = FunctionDataset.from_name(\"f:o0Xo2\")\n",
    "create_table(d, score_col=\"bsim\")"
   ]
  },
  {
   "cell_type": "code",
   "execution_count": null,
   "metadata": {},
   "outputs": [],
   "source": [
    "d = FunctionDataset.from_name(\"f:o0Xo3\")\n",
    "create_table(d, score_col=\"bsim\")"
   ]
  },
  {
   "cell_type": "code",
   "execution_count": null,
   "metadata": {},
   "outputs": [],
   "source": [
    "d = FunctionDataset.from_name(\"f:osXo0\")\n",
    "create_table(d, score_col=\"bsim\")"
   ]
  },
  {
   "cell_type": "code",
   "execution_count": null,
   "metadata": {},
   "outputs": [],
   "source": [
    "d = FunctionDataset.from_name(\"f:osXo2\")\n",
    "create_table(d, score_col=\"bsim\")"
   ]
  },
  {
   "cell_type": "code",
   "execution_count": null,
   "metadata": {},
   "outputs": [],
   "source": [
    "d = FunctionDataset.from_name(\"f:noinlineXinline\")\n",
    "create_table(d, score_col=\"bsim\")"
   ]
  },
  {
   "cell_type": "code",
   "execution_count": null,
   "metadata": {},
   "outputs": [],
   "source": [
    "d = FunctionDataset.from_name(\"f:x86Xarm\")\n",
    "create_table(d, score_col=\"bsim\")"
   ]
  },
  {
   "cell_type": "code",
   "execution_count": null,
   "metadata": {},
   "outputs": [],
   "source": [
    "d = FunctionDataset.from_name(\"f:armXmips\")\n",
    "create_table(d, score_col=\"bsim\")"
   ]
  },
  {
   "cell_type": "code",
   "execution_count": null,
   "metadata": {},
   "outputs": [],
   "source": [
    "d = FunctionDataset.from_name(\"f:x86Xmips\")\n",
    "create_table(d, score_col=\"bsim\")"
   ]
  },
  {
   "cell_type": "code",
   "execution_count": null,
   "metadata": {},
   "outputs": [],
   "source": [
    "d = FunctionDataset.from_name(\"f:malware-analysis\")\n",
    "create_table(d, score_col=\"bsim\")"
   ]
  },
  {
   "cell_type": "code",
   "execution_count": null,
   "metadata": {},
   "outputs": [],
   "source": [
    "d = FunctionDataset.from_name(\"f:firmware-analysis\")\n",
    "create_table(d, score_col=\"bsim\")"
   ]
  },
  {
   "cell_type": "code",
   "execution_count": null,
   "metadata": {},
   "outputs": [],
   "source": [
    "d = FunctionDataset.from_name(\"f:random\")\n",
    "create_table(d, score_col=\"bsim\")"
   ]
  },
  {
   "cell_type": "markdown",
   "metadata": {},
   "source": [
    "## NeighBSim Evaluation"
   ]
  },
  {
   "cell_type": "code",
   "execution_count": null,
   "metadata": {},
   "outputs": [],
   "source": [
    "name2dataset: dict[str, FunctionDataset] = {}"
   ]
  },
  {
   "cell_type": "code",
   "execution_count": null,
   "metadata": {},
   "outputs": [],
   "source": [
    "names = [\n",
    "    # Usecases\n",
    "    # \"f:firmware-analysis\",\n",
    "    # \"f:malware-analysis\",\n",
    "    # \"f:random\",\n",
    "    # Optimisation\n",
    "    \"f:o0Xo2\",\n",
    "    \"f:o0Xo3\",\n",
    "    # \"f:osXo0\",\n",
    "    # \"f:osXo2\",\n",
    "    # \"f:osXo3\",\n",
    "    # Architecture\n",
    "    # \"f:armXmips\",\n",
    "    # \"f:x86Xarm\",\n",
    "    # \"f:x86Xmips\",\n",
    "    # Inlining\n",
    "    # \"f:noinlineXinline\",\n",
    "]"
   ]
  },
  {
   "cell_type": "code",
   "execution_count": null,
   "metadata": {},
   "outputs": [],
   "source": [
    "for name in names:\n",
    "    d = FunctionDataset.from_name(name)\n",
    "    print(name)\n",
    "    print(f\"{d.frame[\"bsim\"].isna().sum() / len(d.frame)}\")\n",
    "    d = d.load_pickle()\n",
    "    print(f\"{d.frame[\"neighbsim\"].isna().sum() / len(d.frame)}\")\n",
    "    # d = d.dropna()\n",
    "\n",
    "    name2dataset[name] = d"
   ]
  },
  {
   "cell_type": "code",
   "execution_count": null,
   "metadata": {},
   "outputs": [],
   "source": [
    "for name, d in name2dataset.items():\n",
    "    neighbsim_table = create_table(d, score_col=\"neighbsim\")\n",
    "    IPython.display.display(f\"{name} -- NeighBSim\")\n",
    "    IPython.display.display(neighbsim_table)\n",
    "\n",
    "    bsim_table = create_table(d, score_col=\"bsim\")\n",
    "    IPython.display.display(f\"{name} -- BSim\")\n",
    "    IPython.display.display(bsim_table)"
   ]
  },
  {
   "cell_type": "code",
   "execution_count": null,
   "metadata": {},
   "outputs": [],
   "source": [
    "bins = [\"low\", \"medium\", \"high\"]\n",
    "\n",
    "x = np.arange(len(bins) * len(name2dataset), step=len(name2dataset))\n",
    "inter_dataset_offset = 0.4\n",
    "intra_dataset_offset = 0.2"
   ]
  },
  {
   "cell_type": "code",
   "execution_count": null,
   "metadata": {},
   "outputs": [],
   "source": [
    "markers = [\"o\", \"x\", \"1\", \"<\", \"D\"]"
   ]
  },
  {
   "cell_type": "code",
   "execution_count": null,
   "metadata": {},
   "outputs": [],
   "source": [
    "bin2line = {\n",
    "    \"low\": \"dotted\",\n",
    "    \"medium\": (0, (3, 1, 1, 1)),\n",
    "    \"high\": \"solid\",\n",
    "}"
   ]
  },
  {
   "cell_type": "code",
   "execution_count": null,
   "metadata": {},
   "outputs": [],
   "source": [
    "fig, ax = plt.subplots(\n",
    "    figsize=(8, 12),\n",
    ")"
   ]
  },
  {
   "cell_type": "code",
   "execution_count": null,
   "metadata": {},
   "outputs": [],
   "source": [
    "marker_cycle = iter(markers)\n",
    "\n",
    "for i, dataset in enumerate(name2dataset.values()):\n",
    "    marker = next(marker_cycle)\n",
    "    bsim_table = create_table(dataset, \"bsim\").drop(columns=\"all\").drop(labels=\"all\")\n",
    "    neighbsim_table = create_table(dataset, \"neighbsim\").drop(columns=\"all\").drop(labels=\"all\")\n",
    "\n",
    "    dataset_offset = i * (inter_dataset_offset + 2 * intra_dataset_offset)\n",
    "\n",
    "    for j, size_bin in enumerate(bins):\n",
    "        offset = dataset_offset + j * intra_dataset_offset\n",
    "\n",
    "        bsim_auc = bsim_table[size_bin]\n",
    "        neighbsim_auc = neighbsim_table[size_bin]\n",
    "\n",
    "        ymin = np.where(bsim_auc < neighbsim_auc, bsim_auc, neighbsim_auc)\n",
    "        ymax = np.where(bsim_auc > neighbsim_auc, bsim_auc, neighbsim_auc)\n",
    "        ax.vlines(x + offset, ymin=ymin, ymax=ymax, colors=\"grey\", linestyles=bin2line[size_bin])\n",
    "\n",
    "        rects = ax.scatter(\n",
    "            x=x + offset,\n",
    "            y=bsim_auc,\n",
    "            # width=width,\n",
    "            label=size_bin,\n",
    "            color=\"mediumseagreen\",\n",
    "            alpha=1.0,\n",
    "            marker=marker,\n",
    "        )\n",
    "\n",
    "        rects = ax.scatter(\n",
    "            x=x + offset,\n",
    "            y=neighbsim_auc,\n",
    "            # width=width,\n",
    "            label=size_bin,\n",
    "            color=\"tomato\",\n",
    "            alpha=1.0,\n",
    "            marker=marker,\n",
    "        )"
   ]
  },
  {
   "cell_type": "code",
   "execution_count": null,
   "metadata": {},
   "outputs": [],
   "source": [
    "fig"
   ]
  },
  {
   "cell_type": "code",
   "execution_count": 1,
   "metadata": {},
   "outputs": [],
   "source": [
    "from evaluatie.neighbsim.neighbsim import neighbsim_lazy, NeighBSimLazyArgs, NeighBSimArgs\n",
    "from evaluatie import models as m"
   ]
  },
  {
   "cell_type": "code",
   "execution_count": null,
   "metadata": {},
   "outputs": [],
   "source": [
    "d = name2dataset[\"f:o0Xo2\"]"
   ]
  },
  {
   "cell_type": "code",
   "execution_count": null,
   "metadata": {},
   "outputs": [],
   "source": [
    "d.frame[d.frame[\"neighbsim\"].isna()][\n",
    "    [\"query_binary_id\", \"target_binary_id\", \"query_function_id\", \"target_function_id\", \"bsim\"]\n",
    "]"
   ]
  },
  {
   "cell_type": "code",
   "execution_count": 2,
   "metadata": {},
   "outputs": [],
   "source": [
    "with m.Session() as session:\n",
    "    args = NeighBSimLazyArgs.from_binary_ids(14223, 14231, session)\n",
    "    result = neighbsim_lazy(7609331, 7668160, args, session=session)"
   ]
  },
  {
   "cell_type": "code",
   "execution_count": 3,
   "metadata": {},
   "outputs": [
    {
     "data": {
      "text/plain": [
       "NeighBSimResult(args=NeighBSimArgs(similarity_graph=<networkx.classes.graph.Graph object at 0x72ebc433faa0>, query_binary_id=14223, query_call_graph=<networkx.classes.digraph.DiGraph object at 0x72ebbe7b4830>, target_binary_id=14231, target_call_graph=<networkx.classes.digraph.DiGraph object at 0x72ebbeaeea80>), qcallers=[7602256], tcallers=[], qcallees=[7609331], tcallees=[7668160, 7671693], caller_matching=<networkx.classes.graph.Graph object at 0x72ebbe7b7cb0>, callee_matching=<networkx.classes.graph.Graph object at 0x72ebbdddc050>, score=0.10432955940183293)"
      ]
     },
     "execution_count": 3,
     "metadata": {},
     "output_type": "execute_result"
    }
   ],
   "source": [
    "result"
   ]
  },
  {
   "cell_type": "code",
   "execution_count": null,
   "metadata": {},
   "outputs": [],
   "source": []
  }
 ],
 "metadata": {
  "kernelspec": {
   "display_name": "studeerwerk-evaluation-urcm250o-py3.12",
   "language": "python",
   "name": "python3"
  },
  "language_info": {
   "codemirror_mode": {
    "name": "ipython",
    "version": 3
   },
   "file_extension": ".py",
   "mimetype": "text/x-python",
   "name": "python",
   "nbconvert_exporter": "python",
   "pygments_lexer": "ipython3",
   "version": "3.12.5"
  }
 },
 "nbformat": 4,
 "nbformat_minor": 2
}
