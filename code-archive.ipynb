{
 "cells": [
  {
   "cell_type": "markdown",
   "metadata": {},
   "source": [
    "# Code Archive\n",
    "This notebook contains all kind of code that is not needed in the other notebooks,\n",
    "but I do not want to delete it.\n",
    "For example code that is needed to debug former bugs is a good candidate for the code archive.\n",
    "In the future, it will be converted to unit tests.\n"
   ]
  },
  {
   "cell_type": "code",
   "execution_count": null,
   "metadata": {},
   "outputs": [],
   "source": [
    "import sqlalchemy as sa"
   ]
  },
  {
   "cell_type": "code",
   "execution_count": null,
   "metadata": {},
   "outputs": [],
   "source": [
    "from studeerwerk.ghidra.bsim import models as sm\n",
    "from evaluatie import models as em"
   ]
  },
  {
   "cell_type": "code",
   "execution_count": null,
   "metadata": {},
   "outputs": [],
   "source": [
    "em_session = em.Session()\n",
    "sm_session = sm.Session()\n"
   ]
  },
  {
   "cell_type": "code",
   "execution_count": null,
   "metadata": {},
   "outputs": [],
   "source": [
    "compare_result = sa.func.lshvector_compare(\n",
    "        \"(1:b30123b6,1:c59bb005,1:da04361b)\",\n",
    "        \"(1:1c28f7c6,1:4ffb1ded,1:545c6155,1:967ef100,1:9a2f57b3,1:b7275455,1:da04361b)\",\n",
    "    )\n",
    "stmt = sa.select(\n",
    "    compare_result.scalar_table_valued(\"sim\"),\n",
    "    compare_result.scalar_table_valued(\"sig\"),\n",
    ")\n",
    "\n",
    "next(em_session.execute(stmt))"
   ]
  },
  {
   "cell_type": "code",
   "execution_count": null,
   "metadata": {},
   "outputs": [],
   "source": [
    "# This is important!\n",
    "# Find all functions that do not have a corresponding function in the dataset\n",
    "stmt = sa.select(\n",
    "    sm.FunctionDescription.addr,\n",
    ").where(\n",
    "    sa.func.starts_with(sm.FunctionDescription.name, \"FUN_\"),\n",
    ")\n",
    "\n",
    "addresses = list(sm_session.scalars(stmt))\n",
    "addresses"
   ]
  },
  {
   "cell_type": "code",
   "execution_count": null,
   "metadata": {},
   "outputs": [],
   "source": [
    "stmt = sa.select(\n",
    "    em.Function,\n",
    ").where(\n",
    "    # XXX This check is wrong as the addresses do not have the same base address!\n",
    "    em.Function.offset.in_(addresses),\n",
    ")\n",
    "\n",
    "scalars = list(em_session.scalars(stmt))\n",
    "scalars"
   ]
  },
  {
   "cell_type": "code",
   "execution_count": null,
   "metadata": {},
   "outputs": [],
   "source": [
    "sa.select(\n",
    "    em.Binary,\n",
    ").where(\n",
    "    em.Binary.image_base == -1,\n",
    ")\n",
    "\n",
    "scalars = list(em_session.scalars(stmt))\n",
    "scalars\n"
   ]
  }
 ],
 "metadata": {
  "kernelspec": {
   "display_name": "evaluatie-urcm250o-py3.12",
   "language": "python",
   "name": "python3"
  },
  "language_info": {
   "codemirror_mode": {
    "name": "ipython",
    "version": 3
   },
   "file_extension": ".py",
   "mimetype": "text/x-python",
   "name": "python",
   "nbconvert_exporter": "python",
   "pygments_lexer": "ipython3",
   "version": "3.12.3"
  }
 },
 "nbformat": 4,
 "nbformat_minor": 2
}
