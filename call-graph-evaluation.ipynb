{
 "cells": [
  {
   "cell_type": "markdown",
   "metadata": {},
   "source": [
    "# Call-Graph Evaluation\n",
    "This notebook analyzes"
   ]
  },
  {
   "cell_type": "code",
   "execution_count": 1,
   "metadata": {},
   "outputs": [],
   "source": [
    "import rich.pretty\n",
    "\n",
    "rich.pretty.install()"
   ]
  },
  {
   "cell_type": "code",
   "execution_count": 2,
   "metadata": {},
   "outputs": [],
   "source": [
    "import msgspec\n",
    "import pandas as pd\n",
    "import seaborn as sns\n",
    "import matplotlib as mpl\n",
    "from matplotlib import pyplot as plt\n",
    "import sqlalchemy as sa\n",
    "import networkx as nx\n",
    "import sklearn.metrics\n",
    "from sklearn.metrics import roc_curve\n",
    "from evaluatie.neighbsim.neighbsim import neighbsim, NeighBSimArgs\n",
    "import itertools\n",
    "from tqdm import tqdm\n",
    "import scipy\n",
    "import scipy.stats\n",
    "import numpy as np"
   ]
  },
  {
   "cell_type": "code",
   "execution_count": 3,
   "metadata": {},
   "outputs": [],
   "source": [
    "from evaluatie import models as m\n",
    "from evaluatie.data import Dataset, Pair, DatasetSpec"
   ]
  },
  {
   "cell_type": "code",
   "execution_count": 4,
   "metadata": {},
   "outputs": [],
   "source": [
    "tqdm.pandas()"
   ]
  },
  {
   "cell_type": "code",
   "execution_count": 8,
   "metadata": {},
   "outputs": [],
   "source": [
    "def in_degree_from_graph(graph: nx.DiGraph) -> np.ndarray:\n",
    "    \"\"\"Returns an array with\"\"\"\n",
    "    indeg_sr = pd.Series(\n",
    "        [deg for _, deg in graph.in_degree],\n",
    "    )\n",
    "    # qb_indeg_sr.value_counts(sort=True)\n",
    "    return indeg_sr.to_numpy()"
   ]
  },
  {
   "cell_type": "code",
   "execution_count": null,
   "metadata": {},
   "outputs": [],
   "source": [
    "with m.Session() as session:\n",
    "    xo_df[\"qb_cg\"] = xo_df[\"qb_id\"].progress_apply(call_graph_from_binary_id, args=(session,))\n",
    "    xo_df[\"tb_cg\"] = xo_df[\"tb_id\"].progress_apply(call_graph_from_binary_id, args=(session,))\n",
    "\n",
    "    xaxb_df[\"qb_cg\"] = xaxb_df[\"qb_id\"].progress_apply(call_graph_from_binary_id, args=(session,))\n",
    "    xaxb_df[\"tb_cg\"] = xaxb_df[\"tb_id\"].progress_apply(call_graph_from_binary_id, args=(session,))\n",
    "\n",
    "    xo_o0xo3_df[\"qb_cg\"] = xo_o0xo3_df[\"qb_id\"].progress_apply(\n",
    "        call_graph_from_binary_id, args=(session,)\n",
    "    )\n",
    "    xo_o0xo3_df[\"tb_cg\"] = xo_o0xo3_df[\"tb_id\"].progress_apply(\n",
    "        call_graph_from_binary_id, args=(session,)\n",
    "    )\n",
    "\n",
    "    xo_o2xo3_df[\"qb_cg\"] = xo_o2xo3_df[\"qb_id\"].progress_apply(\n",
    "        call_graph_from_binary_id, args=(session,)\n",
    "    )\n",
    "    xo_o2xo3_df[\"tb_cg\"] = xo_o2xo3_df[\"tb_id\"].progress_apply(\n",
    "        call_graph_from_binary_id, args=(session,)\n",
    "    )"
   ]
  },
  {
   "cell_type": "code",
   "execution_count": null,
   "metadata": {},
   "outputs": [],
   "source": [
    "xo_df[\"qb_indeg\"] = xo_df[\"qb_cg\"].progress_apply(in_degree_from_graph)\n",
    "xo_df[\"tb_indeg\"] = xo_df[\"tb_cg\"].progress_apply(in_degree_from_graph)\n",
    "\n",
    "xaxb_df[\"qb_indeg\"] = xaxb_df[\"qb_cg\"].progress_apply(in_degree_from_graph)\n",
    "xaxb_df[\"tb_indeg\"] = xaxb_df[\"tb_cg\"].progress_apply(in_degree_from_graph)\n",
    "\n",
    "xo_o0xo3_df[\"qb_indeg\"] = xo_o0xo3_df[\"qb_cg\"].progress_apply(in_degree_from_graph)\n",
    "xo_o0xo3_df[\"tb_indeg\"] = xo_o0xo3_df[\"tb_cg\"].progress_apply(in_degree_from_graph)\n",
    "\n",
    "xo_o2xo3_df[\"qb_indeg\"] = xo_o2xo3_df[\"qb_cg\"].progress_apply(in_degree_from_graph)\n",
    "xo_o2xo3_df[\"tb_indeg\"] = xo_o2xo3_df[\"tb_cg\"].progress_apply(in_degree_from_graph)"
   ]
  },
  {
   "cell_type": "code",
   "execution_count": null,
   "metadata": {},
   "outputs": [],
   "source": [
    "def mean_distance_from_row(row):\n",
    "    qb_indeg = row[\"qb_indeg\"]\n",
    "    tb_indeg = row[\"tb_indeg\"]\n",
    "\n",
    "    return np.mean(qb_indeg) - np.mean(tb_indeg)"
   ]
  },
  {
   "cell_type": "code",
   "execution_count": null,
   "metadata": {},
   "outputs": [],
   "source": [
    "def energy_distance_from_row(row):\n",
    "    qb_indeg = row[\"qb_indeg\"]\n",
    "    tb_indeg = row[\"tb_indeg\"]\n",
    "\n",
    "    # return scipy.stats.wasserstein_distance(qb_indeg, tb_indeg)\n",
    "    return scipy.stats.energy_distance(qb_indeg, tb_indeg)"
   ]
  },
  {
   "cell_type": "code",
   "execution_count": null,
   "metadata": {},
   "outputs": [],
   "source": [
    "xo_energy_dist = xo_df.progress_apply(\n",
    "    energy_distance_from_row,\n",
    "    axis=1,\n",
    ")\n",
    "\n",
    "xaxb_energy_dist = xaxb_df.progress_apply(\n",
    "    energy_distance_from_row,\n",
    "    axis=1,\n",
    ")\n",
    "\n",
    "xo_o0xo3_energy_dist = xo_o0xo3_df.progress_apply(\n",
    "    energy_distance_from_row,\n",
    "    axis=1,\n",
    ")\n",
    "\n",
    "xo_o2xo3_energy_dist = xo_o2xo3_df.progress_apply(\n",
    "    energy_distance_from_row,\n",
    "    axis=1,\n",
    ")"
   ]
  },
  {
   "cell_type": "code",
   "execution_count": null,
   "metadata": {},
   "outputs": [],
   "source": [
    "(\n",
    "    fig,\n",
    "    ((xo_ax, xaxb_ax), (xo_o0xo3_ax, xo_o2xo3_ax)),\n",
    ") = plt.subplots(\n",
    "    sharex=True,\n",
    "    sharey=True,\n",
    "    nrows=2,\n",
    "    ncols=2,\n",
    "    figsize=(12, 6),\n",
    "    dpi=120,\n",
    ")\n",
    "\n",
    "kwargs = {\n",
    "    \"binwidth\": 0.01,\n",
    "    \"stat\": \"probability\",\n",
    "    \"kde\": True,\n",
    "}\n",
    "\n",
    "sns.histplot(\n",
    "    data=xo_energy_dist,\n",
    "    ax=xo_ax,\n",
    "    **kwargs,\n",
    ")\n",
    "xo_ax.set_title(\"xo\")\n",
    "\n",
    "sns.histplot(\n",
    "    data=xaxb_energy_dist,\n",
    "    ax=xaxb_ax,\n",
    "    **kwargs,\n",
    ")\n",
    "xaxb_ax.set_title(\"xaxb\")\n",
    "\n",
    "\n",
    "sns.histplot(\n",
    "    data=xo_o0xo3_energy_dist,\n",
    "    ax=xo_o0xo3_ax,\n",
    "    **kwargs,\n",
    ")\n",
    "xo_o0xo3_ax.set_title(\"xo_o0xo3\")\n",
    "\n",
    "\n",
    "sns.histplot(\n",
    "    data=xo_o2xo3_energy_dist,\n",
    "    ax=xo_o2xo3_ax,\n",
    "    **kwargs,\n",
    ")\n",
    "xo_o2xo3_ax.set_title(\"xo_o2xo3\")"
   ]
  },
  {
   "cell_type": "code",
   "execution_count": null,
   "metadata": {},
   "outputs": [],
   "source": [
    "xo_mean_dist = xo_df.progress_apply(\n",
    "    mean_distance_from_row,\n",
    "    axis=1,\n",
    ")\n",
    "\n",
    "xaxb_mean_dist = xaxb_df.progress_apply(\n",
    "    mean_distance_from_row,\n",
    "    axis=1,\n",
    ")\n",
    "\n",
    "\n",
    "xo_o0xo3_mean_dist = xo_o0xo3_df.progress_apply(\n",
    "    mean_distance_from_row,\n",
    "    axis=1,\n",
    ")\n",
    "\n",
    "xo_o2xo3_mean_dist = xo_o2xo3_df.progress_apply(\n",
    "    mean_distance_from_row,\n",
    "    axis=1,\n",
    ")"
   ]
  },
  {
   "cell_type": "code",
   "execution_count": null,
   "metadata": {},
   "outputs": [],
   "source": [
    "(\n",
    "    fig,\n",
    "    ((xo_ax, xaxb_ax), (xo_o0xo3_ax, xo_o2xo3_ax)),\n",
    ") = plt.subplots(\n",
    "    sharex=True,\n",
    "    sharey=True,\n",
    "    nrows=2,\n",
    "    ncols=2,\n",
    "    figsize=(12, 6),\n",
    "    dpi=120,\n",
    ")\n",
    "\n",
    "kwargs = {\n",
    "    \"binwidth\": 0.025,\n",
    "    \"stat\": \"probability\",\n",
    "    \"kde\": True,\n",
    "    \"cumulative\": False,\n",
    "}\n",
    "\n",
    "sns.histplot(\n",
    "    data=xo_mean_dist,\n",
    "    ax=xo_ax,\n",
    "    **kwargs,\n",
    ")\n",
    "xo_ax.set_title(\"xo\")\n",
    "\n",
    "sns.histplot(\n",
    "    data=xaxb_mean_dist,\n",
    "    ax=xaxb_ax,\n",
    "    **kwargs,\n",
    ")\n",
    "xaxb_ax.set_title(\"xaxb\")\n",
    "\n",
    "\n",
    "sns.histplot(\n",
    "    data=xo_o0xo3_mean_dist,\n",
    "    ax=xo_o0xo3_ax,\n",
    "    **kwargs,\n",
    ")\n",
    "xo_o0xo3_ax.set_title(\"xo_o0x03\")\n",
    "\n",
    "\n",
    "sns.histplot(\n",
    "    data=xo_o2xo3_mean_dist,\n",
    "    ax=xo_o2xo3_ax,\n",
    "    **kwargs,\n",
    ")\n",
    "xo_o2xo3_ax.set_title(\"xo_o2xo3\")"
   ]
  }
 ],
 "metadata": {
  "kernelspec": {
   "display_name": "evaluatie-BmReXb80-py3.12",
   "language": "python",
   "name": "python3"
  },
  "language_info": {
   "codemirror_mode": {
    "name": "ipython",
    "version": 3
   },
   "file_extension": ".py",
   "mimetype": "text/x-python",
   "name": "python",
   "nbconvert_exporter": "python",
   "pygments_lexer": "ipython3",
   "version": "3.12.4"
  }
 },
 "nbformat": 4,
 "nbformat_minor": 2
}
