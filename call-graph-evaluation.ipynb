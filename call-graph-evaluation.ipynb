{
 "cells": [
  {
   "cell_type": "markdown",
   "metadata": {},
   "source": [
    "# Call-Graph Evaluation\n",
    "This notebook analyzes"
   ]
  },
  {
   "cell_type": "code",
   "execution_count": null,
   "metadata": {},
   "outputs": [],
   "source": [
    "import rich.pretty\n",
    "\n",
    "rich.pretty.install()"
   ]
  },
  {
   "cell_type": "code",
   "execution_count": null,
   "metadata": {},
   "outputs": [],
   "source": [
    "import pandas as pd\n",
    "import seaborn as sns\n",
    "import matplotlib as mpl\n",
    "from matplotlib import pyplot as plt\n",
    "import sqlalchemy as sa\n",
    "import networkx as nx\n",
    "import scipy\n",
    "import scipy.stats\n",
    "import numpy as np\n",
    "import pathlib as pl\n",
    "import networkx as nx"
   ]
  },
  {
   "cell_type": "code",
   "execution_count": null,
   "metadata": {},
   "outputs": [],
   "source": [
    "from tqdm import tqdm\n",
    "\n",
    "tqdm.pandas()"
   ]
  },
  {
   "cell_type": "markdown",
   "metadata": {},
   "source": [
    "## Creating pickles"
   ]
  },
  {
   "cell_type": "code",
   "execution_count": null,
   "metadata": {},
   "outputs": [],
   "source": [
    "from evaluatie.utils import call_graph_from_binary_id\n",
    "from evaluatie import models as m"
   ]
  },
  {
   "cell_type": "code",
   "execution_count": null,
   "metadata": {},
   "outputs": [],
   "source": [
    "tqdm.pandas()"
   ]
  },
  {
   "cell_type": "code",
   "execution_count": null,
   "metadata": {},
   "outputs": [],
   "source": [
    "name2frame: dict[str, pd.DataFrame] = {}"
   ]
  },
  {
   "cell_type": "code",
   "execution_count": null,
   "metadata": {},
   "outputs": [],
   "source": [
    "names = [\n",
    "    # Optimization\n",
    "    \"cg:o0Xo2\",\n",
    "    \"cg:o0Xo3\",\n",
    "    \"cg:osXo0\",\n",
    "    \"cg:osXo2\",\n",
    "    \"cg:osXo3\",\n",
    "    # Architecture\n",
    "    \"cg:armXmips\",\n",
    "    \"cg:x86Xarm\",\n",
    "    \"cg:x86Xmips\",\n",
    "    # Others\n",
    "    \"cg:random\",\n",
    "    \"cg:noinlineXinline\",\n",
    "]\n",
    "for name in names:\n",
    "    pickle_path = pl.Path(f\"datasets/{name}.pickle\")\n",
    "    if pickle_path.exists():\n",
    "        pass\n",
    "        # name2frame[name] = pd.read_pickle(pickle_path)\n",
    "    else:\n",
    "        pass\n",
    "        name2frame[name] = pd.read_csv(f\"datasets/{name}.csv\")"
   ]
  },
  {
   "cell_type": "code",
   "execution_count": null,
   "metadata": {},
   "outputs": [],
   "source": [
    "with m.Session() as session:\n",
    "    for name, frame in list(name2frame.items()):\n",
    "        print(name)\n",
    "        if len(frame) > 4_000:\n",
    "            print(f\"Sampling from {name}\")\n",
    "            frame = frame.iloc[0:3000].copy()\n",
    "\n",
    "        frame[\"qcg\"] = frame[\"qb_id\"].progress_apply(\n",
    "            call_graph_from_binary_id,\n",
    "            args=(session,),\n",
    "        )\n",
    "        frame[\"tcg\"] = frame[\"tb_id\"].progress_apply(\n",
    "            call_graph_from_binary_id,\n",
    "            args=(session,),\n",
    "        )\n",
    "        frame.to_pickle(f\"datasets/{name}.pickle\")\n",
    "\n",
    "        name2frame[name] = frame.drop(columns=[\"qcg\", \"tcg\"]).copy()\n",
    "        del frame\n",
    "        session.rollback()"
   ]
  },
  {
   "cell_type": "markdown",
   "metadata": {},
   "source": [
    "## Evaluating"
   ]
  },
  {
   "cell_type": "code",
   "execution_count": null,
   "metadata": {},
   "outputs": [],
   "source": [
    "name2frame: dict[str, pd.DataFrame] = {}\n",
    "\n",
    "names = [\n",
    "    # Optimization\n",
    "    # \"cg:o0Xo2\",\n",
    "    # \"cg:o0Xo3\",\n",
    "    \"cg:osXo0\",\n",
    "    \"cg:osXo2\",\n",
    "    \"cg:osXo3\",\n",
    "    # Architecture\n",
    "    # \"cg:armXmips\",\n",
    "    # \"cg:x86Xarm\",\n",
    "    # \"cg:x86Xmips\",\n",
    "    # Others\n",
    "    # \"cg:random\",\n",
    "    # \"cg:noinlineXinline\",\n",
    "]\n",
    "for name in names:\n",
    "    pickle_path = pl.Path(f\"datasets/{name}.pickle\")\n",
    "    name2frame[name] = pd.read_pickle(pickle_path)"
   ]
  },
  {
   "cell_type": "code",
   "execution_count": null,
   "metadata": {},
   "outputs": [],
   "source": [
    "nx.graph_edit_distance(qcg, tcg)"
   ]
  },
  {
   "cell_type": "code",
   "execution_count": null,
   "metadata": {},
   "outputs": [],
   "source": [
    "def energy_distance_from_distributions(query_indegs, target_indegs):\n",
    "    return scipy.stats.energy_distance(query_indegs, target_indegs)\n",
    "\n",
    "\n",
    "def mean_distance_from_arrays(query_indeg, target_indegs):\n",
    "    return np.mean(query_indeg) - np.mean(target_indegs)\n",
    "\n",
    "\n",
    "def distance_from_scalars(query_value, target_value):\n",
    "    return target_value - query_value"
   ]
  },
  {
   "cell_type": "code",
   "execution_count": null,
   "metadata": {},
   "outputs": [],
   "source": [
    "def node_count_from_graph(graph: nx.DiGraph):\n",
    "    return len(graph)\n",
    "\n",
    "\n",
    "def edge_count_from_graph(graph: nx.DiGraph):\n",
    "    return len(graph.edges)\n",
    "\n",
    "\n",
    "def in_degree_from_graph(graph: nx.DiGraph) -> np.ndarray:\n",
    "    indeg_sr = pd.Series(\n",
    "        [deg for _, deg in graph.in_degree],\n",
    "    )\n",
    "    return indeg_sr.to_numpy()\n",
    "\n",
    "\n",
    "def out_degree_from_graph(graph: nx.DiGraph) -> np.ndarray:\n",
    "    \"\"\"Returns an array with\"\"\"\n",
    "    outdeg_sr = pd.Series(\n",
    "        [deg for _, deg in graph.out_degree],\n",
    "    )\n",
    "    return outdeg_sr.to_numpy()"
   ]
  },
  {
   "cell_type": "code",
   "execution_count": null,
   "metadata": {},
   "outputs": [],
   "source": [
    "feature2binwidth = {\n",
    "    \"indegree\": 0.01,\n",
    "    \"outdegree\": 0.01,\n",
    "    \"#nodes\": 1,\n",
    "    \"#edges\": 1,\n",
    "}"
   ]
  },
  {
   "cell_type": "code",
   "execution_count": null,
   "metadata": {},
   "outputs": [],
   "source": [
    "def prepare_figure():\n",
    "    names = [\n",
    "        \"cg:osXo0\",\n",
    "        \"cg:osXo2\",\n",
    "        \"cg:osXo3\",\n",
    "    ]\n",
    "\n",
    "    features = [\n",
    "        \"indegree\",\n",
    "        \"outdegree\",\n",
    "        \"#nodes\",\n",
    "        \"#edges\",\n",
    "    ]\n",
    "\n",
    "    nrows = len(features)\n",
    "    ncols = len(names)\n",
    "\n",
    "    fig = plt.figure(figsize=(14, 8))\n",
    "\n",
    "    feature2axs: dict[str, mpl.axes.Axes] = {feature: [] for feature in features}\n",
    "\n",
    "    for row, feature in enumerate(features):\n",
    "        prev_ax = None\n",
    "        for col, name in enumerate(names):\n",
    "            index = row * ncols + col + 1\n",
    "            ax = fig.add_subplot(\n",
    "                nrows,\n",
    "                ncols,\n",
    "                index,\n",
    "                sharey=prev_ax,\n",
    "                sharex=prev_ax,\n",
    "            )\n",
    "\n",
    "            feature2axs[feature].append(ax)\n",
    "\n",
    "            prev_ax = ax\n",
    "\n",
    "    return fig, feature2axs"
   ]
  },
  {
   "cell_type": "code",
   "execution_count": null,
   "metadata": {},
   "outputs": [],
   "source": [
    "def plot_distance(frame: pd.DataFrame, *, feature, ax, distance_from_feature, feature_from_graph):\n",
    "    quey_col = f\"qfeature\"\n",
    "    target_col = f\"tfeature\"\n",
    "\n",
    "    plot_df = frame[[]].copy()\n",
    "    plot_df[quey_col] = frame[\"qcg\"].apply(feature_from_graph)\n",
    "    plot_df[target_col] = frame[\"tcg\"].apply(feature_from_graph)\n",
    "\n",
    "    def distance_from_row(row):\n",
    "        return distance_from_feature(\n",
    "            row[quey_col],\n",
    "            row[target_col],\n",
    "        )\n",
    "\n",
    "    plot_df[\"dist\"] = plot_df.apply(distance_from_row, axis=1)\n",
    "\n",
    "    print(\"Plotting\")\n",
    "    sns.histplot(\n",
    "        data=plot_df,\n",
    "        x=\"dist\",\n",
    "        ax=ax,\n",
    "        binwidth=feature2binwidth[feature],\n",
    "        kde=True,\n",
    "        kde_kws={\"cut\": 0},\n",
    "        stat=\"probability\",\n",
    "    )"
   ]
  },
  {
   "cell_type": "code",
   "execution_count": null,
   "metadata": {},
   "outputs": [],
   "source": []
  },
  {
   "cell_type": "code",
   "execution_count": null,
   "metadata": {},
   "outputs": [],
   "source": [
    "fig, feature2axs = prepare_figure()\n",
    "\n",
    "for idx, name in enumerate(names):\n",
    "    ax = feature2axs[\"indegree\"][idx]\n",
    "    ax.set_title(name)\n",
    "\n",
    "feature2axs[\"#nodes\"][0].set_xlim(-50, 50)\n",
    "feature2axs[\"#edges\"][0].set_xlim(-50, 50)\n",
    "\n",
    "\n",
    "# Indegree\n",
    "plot_distance(\n",
    "    name2frame[\"cg:osXo0\"],\n",
    "    ax=feature2axs[\"indegree\"][0],\n",
    "    distance_from_feature=energy_distance_from_distributions,\n",
    "    feature_from_graph=in_degree_from_graph,\n",
    "    feature=\"indegree\",\n",
    ")\n",
    "\n",
    "plot_distance(\n",
    "    name2frame[\"cg:osXo2\"],\n",
    "    ax=feature2axs[\"indegree\"][1],\n",
    "    distance_from_feature=energy_distance_from_distributions,\n",
    "    feature_from_graph=in_degree_from_graph,\n",
    "    feature=\"indegree\",\n",
    ")\n",
    "\n",
    "plot_distance(\n",
    "    name2frame[\"cg:osXo3\"],\n",
    "    ax=feature2axs[\"indegree\"][2],\n",
    "    distance_from_feature=energy_distance_from_distributions,\n",
    "    feature_from_graph=in_degree_from_graph,\n",
    "    feature=\"indegree\",\n",
    ")\n",
    "\n",
    "# Outdegree\n",
    "plot_distance(\n",
    "    name2frame[\"cg:osXo0\"],\n",
    "    ax=feature2axs[\"outdegree\"][0],\n",
    "    distance_from_feature=energy_distance_from_distributions,\n",
    "    feature_from_graph=out_degree_from_graph,\n",
    "    feature=\"outdegree\",\n",
    ")\n",
    "\n",
    "plot_distance(\n",
    "    name2frame[\"cg:osXo2\"],\n",
    "    ax=feature2axs[\"outdegree\"][1],\n",
    "    distance_from_feature=energy_distance_from_distributions,\n",
    "    feature_from_graph=out_degree_from_graph,\n",
    "    feature=\"outdegree\",\n",
    ")\n",
    "\n",
    "plot_distance(\n",
    "    name2frame[\"cg:osXo3\"],\n",
    "    ax=feature2axs[\"outdegree\"][2],\n",
    "    distance_from_feature=energy_distance_from_distributions,\n",
    "    feature_from_graph=out_degree_from_graph,\n",
    "    feature=\"outdegree\",\n",
    ")\n",
    "\n",
    "# Nodecount\n",
    "\n",
    "plot_distance(\n",
    "    name2frame[\"cg:osXo0\"],\n",
    "    ax=feature2axs[\"#nodes\"][0],\n",
    "    feature_from_graph=node_count_from_graph,\n",
    "    distance_from_feature=distance_from_scalars,\n",
    "    feature=\"#nodes\",\n",
    ")\n",
    "\n",
    "plot_distance(\n",
    "    name2frame[\"cg:osXo2\"],\n",
    "    ax=feature2axs[\"#nodes\"][1],\n",
    "    feature_from_graph=node_count_from_graph,\n",
    "    distance_from_feature=distance_from_scalars,\n",
    "    feature=\"#nodes\",\n",
    ")\n",
    "\n",
    "plot_distance(\n",
    "    name2frame[\"cg:osXo3\"],\n",
    "    ax=feature2axs[\"#nodes\"][2],\n",
    "    feature_from_graph=node_count_from_graph,\n",
    "    distance_from_feature=distance_from_scalars,\n",
    "    feature=\"#nodes\",\n",
    ")\n",
    "\n",
    "\n",
    "# Edgecount\n",
    "\n",
    "plot_distance(\n",
    "    name2frame[\"cg:osXo0\"],\n",
    "    ax=feature2axs[\"#edges\"][0],\n",
    "    feature_from_graph=edge_count_from_graph,\n",
    "    distance_from_feature=distance_from_scalars,\n",
    "    feature=\"#edges\",\n",
    ")\n",
    "\n",
    "plot_distance(\n",
    "    name2frame[\"cg:osXo2\"],\n",
    "    ax=feature2axs[\"#edges\"][1],\n",
    "    feature_from_graph=edge_count_from_graph,\n",
    "    distance_from_feature=distance_from_scalars,\n",
    "    feature=\"#edges\",\n",
    ")\n",
    "\n",
    "plot_distance(\n",
    "    name2frame[\"cg:osXo3\"],\n",
    "    ax=feature2axs[\"#edges\"][2],\n",
    "    feature_from_graph=edge_count_from_graph,\n",
    "    distance_from_feature=distance_from_scalars,\n",
    "    feature=\"#edges\",\n",
    ")"
   ]
  },
  {
   "cell_type": "code",
   "execution_count": null,
   "metadata": {},
   "outputs": [],
   "source": []
  },
  {
   "cell_type": "code",
   "execution_count": null,
   "metadata": {},
   "outputs": [],
   "source": []
  },
  {
   "cell_type": "code",
   "execution_count": null,
   "metadata": {},
   "outputs": [],
   "source": [
    "fig"
   ]
  },
  {
   "cell_type": "markdown",
   "metadata": {},
   "source": [
    "### Node count"
   ]
  }
 ],
 "metadata": {
  "kernelspec": {
   "display_name": "evaluatie-BmReXb80-py3.12",
   "language": "python",
   "name": "python3"
  },
  "language_info": {
   "codemirror_mode": {
    "name": "ipython",
    "version": 3
   },
   "file_extension": ".py",
   "mimetype": "text/x-python",
   "name": "python",
   "nbconvert_exporter": "python",
   "pygments_lexer": "ipython3",
   "version": "3.12.7"
  }
 },
 "nbformat": 4,
 "nbformat_minor": 2
}
