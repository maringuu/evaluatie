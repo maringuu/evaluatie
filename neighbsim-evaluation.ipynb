{
 "cells": [
  {
   "cell_type": "markdown",
   "metadata": {},
   "source": [
    "# NeighBSim Evaluation"
   ]
  },
  {
   "cell_type": "code",
   "execution_count": 1,
   "metadata": {},
   "outputs": [],
   "source": [
    "import rich.pretty\n",
    "\n",
    "rich.pretty.install()"
   ]
  },
  {
   "cell_type": "code",
   "execution_count": 2,
   "metadata": {},
   "outputs": [],
   "source": [
    "import msgspec\n",
    "import pandas as pd\n",
    "import seaborn as sns\n",
    "import matplotlib as mpl\n",
    "from matplotlib import pyplot as plt\n",
    "import sqlalchemy as sa\n",
    "import networkx as nx\n",
    "import sklearn.metrics\n",
    "from sklearn.metrics import roc_curve\n",
    "from evaluatie.neighbsim.neighbsim import neighbsim, NeighBSimArgs\n",
    "import itertools"
   ]
  },
  {
   "cell_type": "code",
   "execution_count": 3,
   "metadata": {},
   "outputs": [],
   "source": [
    "from evaluatie import models as m\n",
    "from evaluatie.utils import Dataset, Pair, DatasetSpec"
   ]
  },
  {
   "cell_type": "code",
   "execution_count": 6,
   "metadata": {},
   "outputs": [],
   "source": [
    "def neighbsim_score_from_dataset(dataset: Dataset):\n",
    "    def _neighbsim_from_row(row):\n",
    "        qb_id = row[\"qb_id\"]\n",
    "        qf_id = row[\"qf_id\"]\n",
    "        tb_id = row[\"tb_id\"]\n",
    "        tf_id = row[\"tf_id\"]\n",
    "\n",
    "        assert qb_id < tb_id\n",
    "        args = NeighBSimArgs.from_binary_ids(\n",
    "            query_binary_id=qb_id,\n",
    "            target_binary_id=tb_id,\n",
    "            dataset=dataset,\n",
    "        )\n",
    "\n",
    "        try:\n",
    "            result = neighbsim(\n",
    "                query_function_id=qf_id,\n",
    "                target_function_id=tf_id,\n",
    "                args=args,\n",
    "            )\n",
    "        except ValueError:\n",
    "            # No idea what causes this.\n",
    "            # \"cost matrix is infeasible\"\n",
    "            return None\n",
    "        return result\n",
    "\n",
    "    df = dataset.to_frame().copy()\n",
    "    return df.apply(_neighbsim_from_row, axis=1)"
   ]
  },
  {
   "cell_type": "code",
   "execution_count": null,
   "metadata": {},
   "outputs": [],
   "source": [
    "df = ds.to_frame()\n",
    "df[\"bsim\"] = bsim_score_from_dataset(ds)\n",
    "df[\"neighbsim-result\"] = neighbsim_score_from_dataset(ds)"
   ]
  },
  {
   "cell_type": "code",
   "execution_count": null,
   "metadata": {},
   "outputs": [],
   "source": [
    "df[\"neighbsim\"] = df[\"neighbsim-result\"].dropna().apply(lambda result: result.score)\n",
    "df[\"qneighbor-len\"] = (\n",
    "    df[\"neighbsim-result\"]\n",
    "    .dropna()\n",
    "    .apply(lambda result: len(result.qcallers) + len(result.qcallees))\n",
    ")\n",
    "df[\"tneighbor-len\"] = (\n",
    "    df[\"neighbsim-result\"]\n",
    "    .dropna()\n",
    "    .apply(lambda result: len(result.tcallers) + len(result.tcallees))\n",
    ")"
   ]
  },
  {
   "cell_type": "markdown",
   "metadata": {},
   "source": [
    "## Visualisation"
   ]
  },
  {
   "cell_type": "code",
   "execution_count": null,
   "metadata": {},
   "outputs": [],
   "source": [
    "import graphviz"
   ]
  },
  {
   "cell_type": "code",
   "execution_count": null,
   "metadata": {},
   "outputs": [],
   "source": [
    "def get_name(function_id: int, result):\n",
    "    qcg = result.args.query_call_graph\n",
    "    tcg = result.args.target_call_graph\n",
    "\n",
    "    if function_id in qcg:\n",
    "        return qcg.nodes[function_id][\"name\"]\n",
    "\n",
    "    if function_id in tcg:\n",
    "        return tcg.nodes[function_id][\"name\"]"
   ]
  },
  {
   "cell_type": "code",
   "execution_count": null,
   "metadata": {},
   "outputs": [],
   "source": [
    "def get_sim(edge, result):\n",
    "    caller_m = result.caller_matching\n",
    "    callee_m = result.callee_matching\n",
    "\n",
    "    if edge in caller_m.edges:\n",
    "        return \"{:.2f}\".format(caller_m.edges[edge][\"weight\"])\n",
    "\n",
    "    if edge in callee_m.edges:\n",
    "        return \"{:.2f}\".format(callee_m.edges[edge][\"weight\"])\n",
    "\n",
    "    raise ValueError"
   ]
  },
  {
   "cell_type": "code",
   "execution_count": null,
   "metadata": {},
   "outputs": [],
   "source": [
    "queryx = 0\n",
    "targetx = 500\n",
    "\n",
    "ydist = 50\n",
    "callery = 0\n",
    "funy = ydist * max(len(result.qcallers), len(result.tcallers))\n",
    "calleey = funy + ydist\n",
    "\n",
    "dot = graphviz.Graph()\n",
    "\n",
    "for i, qcaller in enumerate(result.qcallers):\n",
    "    dot.node(\n",
    "        str(qcaller),\n",
    "        pos=f\"{queryx},{i * ydist}!\",\n",
    "        label=get_name(qcaller, result),\n",
    "    )\n",
    "\n",
    "for i, tcaller in enumerate(result.tcallers):\n",
    "    dot.node(\n",
    "        str(tcaller),\n",
    "        pos=f\"{targetx},{i * ydist}!\",\n",
    "        label=get_name(tcaller, result),\n",
    "    )\n",
    "\n",
    "\n",
    "for i, qcallee in enumerate(result.qcallees):\n",
    "    dot.node(\n",
    "        str(qcallee),\n",
    "        pos=f\"{queryx},{calleey + i * ydist}!\",\n",
    "        label=get_name(qcallee, result),\n",
    "    )\n",
    "\n",
    "for i, tcallee in enumerate(result.tcallees):\n",
    "    dot.node(\n",
    "        str(tcallee),\n",
    "        pos=f\"{targetx},{calleey + i * ydist}!\",\n",
    "        label=get_name(tcallee, result),\n",
    "    )\n",
    "\n",
    "\n",
    "dot.node(\n",
    "    str(qf_id),\n",
    "    pos=f\"{queryx},{funy}\",\n",
    "    label=get_name(qf_id, result),\n",
    ")\n",
    "dot.node(\n",
    "    str(tf_id),\n",
    "    pos=f\"{targetx},{funy}\",\n",
    "    label=get_name(tf_id, result),\n",
    ")\n",
    "dot.edge(\n",
    "    str(qf_id),\n",
    "    str(tf_id),\n",
    ")\n",
    "\n",
    "for qcaller, tcaller in result.caller_matching.edges:\n",
    "    dot.edge(\n",
    "        str(qcaller),\n",
    "        str(tcaller),\n",
    "        label=get_sim((qcaller, tcaller), result),\n",
    "        headport=\"w\",\n",
    "        tailport=\"e\",\n",
    "    )\n",
    "\n",
    "for qcallee, tcallee in result.callee_matching.edges:\n",
    "    dot.edge(\n",
    "        str(qcallee),\n",
    "        str(tcallee),\n",
    "        label=get_sim((qcallee, tcallee), result),\n",
    "        headport=\"w\",\n",
    "        tailport=\"e\",\n",
    "    )"
   ]
  },
  {
   "cell_type": "code",
   "execution_count": null,
   "metadata": {},
   "outputs": [],
   "source": [
    "result.callee_matching.edges"
   ]
  },
  {
   "cell_type": "code",
   "execution_count": null,
   "metadata": {},
   "outputs": [],
   "source": [
    "dot.render(\n",
    "    \"matching\",\n",
    "    engine=\"neato\",\n",
    "    neato_no_op=2,\n",
    ")"
   ]
  }
 ],
 "metadata": {
  "kernelspec": {
   "display_name": "evaluatie-BmReXb80-py3.12",
   "language": "python",
   "name": "python3"
  },
  "language_info": {
   "codemirror_mode": {
    "name": "ipython",
    "version": 3
   },
   "file_extension": ".py",
   "mimetype": "text/x-python",
   "name": "python",
   "nbconvert_exporter": "python",
   "pygments_lexer": "ipython3",
   "version": "3.12.4"
  }
 },
 "nbformat": 4,
 "nbformat_minor": 2
}
