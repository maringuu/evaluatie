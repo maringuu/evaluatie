{
 "cells": [
  {
   "cell_type": "markdown",
   "metadata": {},
   "source": [
    "# Data Integrity\n",
    "In this notebook, we do several sanity checks on our data.\n",
    "If the sanity checks are not fulfilled either something went wrong,\n",
    "or our assumptions were wrong."
   ]
  },
  {
   "cell_type": "markdown",
   "metadata": {},
   "source": [
    "# Ghidra Analysis Failures"
   ]
  },
  {
   "cell_type": "markdown",
   "metadata": {},
   "source": [
    "Q: How many binaries could not be analyzed?\n",
    "\n",
    "A: 75 out of 66,580"
   ]
  },
  {
   "cell_type": "markdown",
   "metadata": {},
   "source": [
    "```sql \n",
    "SELECT *\n",
    "FROM \"binary\" b\n",
    "\tLEFT OUTER JOIN v.executable2binary e2b ON (\n",
    "\t\tb.id = e2b.binary_id\n",
    "\t)\n",
    "WHERE e2b.binary_id IS NULL\n",
    "```"
   ]
  },
  {
   "cell_type": "markdown",
   "metadata": {},
   "source": [
    "Q: How many binaries were analyzed by ghidra that are not in the evaluatie database?\n",
    "\\\n",
    "Note that this should not happen, as we only analyze the binaries that are in the database.\n",
    "\n",
    "A: None."
   ]
  },
  {
   "cell_type": "markdown",
   "metadata": {},
   "source": [
    "```sql\n",
    "SELECT *\n",
    "FROM v.bsim_exetable e\n",
    "\tLEFT OUTER JOIN v.executable2binary e2b ON (\n",
    "\t\te.id = e2b.executable_id\n",
    "\t)\n",
    "WHERE e2b.executable_id IS NULL AND\n",
    "\t-- Ghidra adds dynamically linked libraries with a fake hash.\n",
    "\te.md5 NOT LIKE 'bbbbbbbbaaaaaaaa%'\n",
    "```"
   ]
  },
  {
   "cell_type": "markdown",
   "metadata": {
    "vscode": {
     "languageId": "plaintext"
    }
   },
   "source": [
    "# Ghidra Description to Evaluatie Function Mapping"
   ]
  },
  {
   "cell_type": "markdown",
   "metadata": {},
   "source": [
    "Q: How many functions that ghidra found were not part of the evaluatie dataset when mapping by address?\n",
    "\n",
    "A: 1,387,404 out of 20,725,781. "
   ]
  },
  {
   "cell_type": "markdown",
   "metadata": {},
   "source": [
    "```sql\n",
    "SELECT count(*)\n",
    "FROM v.bsim_desctable d LEFT OUTER JOIN v.description2function d2f ON (\n",
    "\td.id = d2f.description_id\n",
    ")\n",
    "WHERE d2f.description_id IS NULL\n",
    "``` "
   ]
  },
  {
   "cell_type": "markdown",
   "metadata": {},
   "source": [
    "Q: Which binaries have unmapped descriptions that are named?\\\n",
    "Note that unnamed functions (i.e. starting with 'FUN_') are arguably not that relevant for us\n",
    "as they are not part of the debug symbols (and we cannot know their labels anyways).\n",
    "\n",
    "\n",
    "A: 5,878 out of 66,580."
   ]
  },
  {
   "cell_type": "markdown",
   "metadata": {},
   "source": [
    "```sql\n",
    "WITH description_wo_function AS (\n",
    "\tSELECT d.id, d.name_func AS name, d.id_exe AS executable_id\n",
    "\tFROM v.bsim_desctable d LEFT OUTER JOIN v.description2function d2f ON (\n",
    "\t\td.id = d2f.description_id\n",
    "\t)\n",
    "\tWHERE d2f.description_id IS NULL\n",
    ")\n",
    "SELECT DISTINCT e2b.binary_id\n",
    "FROM description_wo_function d JOIN v.executable2binary e2b ON (\n",
    "\td.executable_id = e2b.executable_id\n",
    ") JOIN \"binary\" b ON (\n",
    "\tb.id = e2b.binary_id\n",
    ")\n",
    "WHERE d.name NOT LIKE 'FUN_%' \n",
    "```"
   ]
  },
  {
   "cell_type": "markdown",
   "metadata": {},
   "source": [
    "Q: Which binaries have unmapped functions?\n",
    "\n",
    "\n",
    "A: All of them."
   ]
  },
  {
   "cell_type": "markdown",
   "metadata": {},
   "source": [
    "```sql\n",
    "WITH function_wo_description AS (\n",
    "\tSELECT f.*\n",
    "\tFROM \"function\" f\n",
    "\t\tLEFT OUTER JOIN v.description2function d2f ON (\n",
    "\t\t\tf.id = d2f.function_id\n",
    "\t\t)\n",
    "\tWHERE d2f.function_id IS NULL\n",
    ")\n",
    "SELECT DISTINCT f.binary_id\n",
    "FROM function_wo_description f\n",
    "\tJOIN \"binary\" b ON (\n",
    "\t\tf.binary_id = b.id\n",
    "\t)\n",
    "```"
   ]
  },
  {
   "cell_type": "markdown",
   "metadata": {},
   "source": [
    "Q: Can we correct the binaries with no base address?\n",
    "\n",
    "A: Yes! Actually, this is pretty simple as the base address is one of two values.\n",
    "One value for 32 bit systems and another value for 64 bit systems."
   ]
  },
  {
   "cell_type": "markdown",
   "metadata": {},
   "source": [
    "```sql\n",
    "WITH \"binary:wired\" AS (\n",
    "\tSELECT b.*, ARRAY_AGG(DISTINCT d.addr - f.offset) AS bases\n",
    "\tFROM \"binary\" b\n",
    "\t\tJOIN v.executable2binary e2b ON (\n",
    "\t\t\tb.id = e2b.binary_id\n",
    "\t\t)\n",
    "\t\tJOIN v.bsim_desctable d ON (\n",
    "\t\t\td.id_exe = e2b.executable_id\n",
    "\t\t)\n",
    "\t\tJOIN \"function\" f ON (\n",
    "\t\t\tb.id = f.binary_id AND\n",
    "\t\t\td.name_func = f.name\n",
    "\t\t)\n",
    "\t\tJOIN build_parameters bp ON (\n",
    "\t\t\tb.build_parameters_id = bp.id\n",
    "\t\t)\n",
    "\tWHERE b.image_base = 0\n",
    "\tGROUP BY b.id\n",
    "), \"binary:new-base\" AS (\n",
    "\tSELECT\n",
    "\t\tb.*,\n",
    "\t\t(\n",
    "\t\tCASE WHEN 65536 = ANY(b.bases) AND NOT (1048576 = ANY(b.bases)) THEN 65536\n",
    "\t\t\t WHEN 1048576 = ANY(b.bases) AND NOT (65536 = ANY(b.bases)) THEN 1048576\n",
    "\t\t\t ELSE NULL\n",
    "\t\tEND\n",
    "\t\t) AS new_base\n",
    "\tFROM \"binary:wired\" b\n",
    "\n",
    ")\n",
    "SELECT DISTINCT b.new_base, bp.bitness\n",
    "FROM \"binary:new-base\" b\n",
    "\tJOIN build_parameters bp ON (\n",
    "\t\tb.build_parameters_id = bp.id\n",
    "\t)\n",
    "\n",
    "```"
   ]
  },
  {
   "cell_type": "markdown",
   "metadata": {},
   "source": [
    "Q: Do image base and bitness correspond one to one?\n",
    "\n",
    "A: No."
   ]
  },
  {
   "cell_type": "markdown",
   "metadata": {},
   "source": [
    "```sql\n",
    "SELECT b.image_base, bp.bitness, COUNT(b.id)\n",
    "FROM \"binary\" b\n",
    "\tJOIN build_parameters bp ON (\n",
    "\t\tb.build_parameters_id = bp.id\n",
    "\t)\n",
    "GROUP BY b.image_base, bp.bitness\n",
    "```\n"
   ]
  },
  {
   "cell_type": "markdown",
   "metadata": {},
   "source": [
    "## Ghidra Function to IDA Function Mapping\n",
    "We use Ghidra for decompilation but our ground truth set uses IDA.\n",
    "In this section, we validate that our database looks as if we never used IDA, but only Ghidra."
   ]
  },
  {
   "cell_type": "markdown",
   "metadata": {
    "vscode": {
     "languageId": "plaintext"
    }
   },
   "source": [
    "\n",
    "```sql\n",
    "-- Which functions have different names in Ghidra/IDA.\n",
    "\n",
    "WITH binary_analyzed AS\n",
    "\t(SELECT b.id as binary_id, e.id as executable_id\n",
    "\tFROM \"binary\" AS b\n",
    "\tJOIN bsim.exetable AS e\n",
    "\tON b.md5 = e.md5),\n",
    "function_data AS (\n",
    "\tSELECT f.id AS id, f.offset + b.image_base AS address, b.id AS binary_id, f.name\n",
    "\tFROM \"function\" AS f JOIN \"binary\" AS b ON f.binary_id = b.id\n",
    ")\n",
    "\t\n",
    "SELECT *\n",
    "FROM bsim.desctable AS description\n",
    "\t-- Join all analyzed binaries to discard linked functions\n",
    "\tJOIN binary_analyzed ON (\n",
    "\t\tdescription.id_exe = binary_analyzed.executable_id\n",
    "\t)\n",
    "\t-- Outer join to not discard functions that ghidra found\n",
    "\tLEFT OUTER JOIN function_data ON (\n",
    "\t\tbinary_analyzed.binary_id = function_data.binary_id AND\n",
    "\t\tdescription.addr = function_data.address\n",
    "\t)\n",
    "WHERE NOT (\n",
    "\tfunction_data.name ~ ('^' || description.name_func || '(_[0-9]+)?$')\n",
    ")\n",
    " ```"
   ]
  },
  {
   "cell_type": "code",
   "execution_count": 1,
   "metadata": {},
   "outputs": [
    {
     "ename": "SyntaxError",
     "evalue": "invalid syntax (2250411566.py, line 1)",
     "output_type": "error",
     "traceback": [
      "\u001b[0;36m  Cell \u001b[0;32mIn[1], line 1\u001b[0;36m\u001b[0m\n\u001b[0;31m    SELECT *\u001b[0m\n\u001b[0m            ^\u001b[0m\n\u001b[0;31mSyntaxError\u001b[0m\u001b[0;31m:\u001b[0m invalid syntax\n"
     ]
    }
   ],
   "source": [
    "SELECT *\n",
    "FROM v.description2function d2f\n",
    "\tJOIN \"function\" f ON (\n",
    "\t\td2f.function_id = f.id\n",
    "\t)\n",
    "\tJOIN v.bsim_desctable d ON (\n",
    "\t\td2f.description_id = d.id\n",
    "\t)"
   ]
  },
  {
   "cell_type": "markdown",
   "metadata": {
    "vscode": {
     "languageId": "plaintext"
    }
   },
   "source": [
    "```sql\n",
    "-- Which functions did Ghidra find, that IDA did not find?\n",
    "\n",
    "\t\n",
    "SELECT *\n",
    "FROM bsim.desctable AS description\n",
    "\t-- Join all analyzed binaries to discard linked functions\n",
    "\tJOIN binary_analyzed ON (\n",
    "\t\tdescription.id_exe = binary_analyzed.executable_id\n",
    "\t)\n",
    "\t-- Outer join to not discard functions that ghidra found\n",
    "\tLEFT OUTER JOIN function_data ON (\n",
    "\t\tbinary_analyzed.binary_id = function_data.binary_id AND\n",
    "\t\tdescription.addr = function_data.address\n",
    "\t\t-- In Ghidra, multiple functions (as defined by their address) can have the same name.\n",
    "\t\t-- In IDA, a counter is appended.\n",
    "\t\tAND function_data.name ~ ('^' || description.name_func || '(_[0-9]+)?$')\n",
    "\t)\n",
    "--WHERE function_data.id IS NULL\n",
    "```\n"
   ]
  },
  {
   "cell_type": "code",
   "execution_count": null,
   "metadata": {},
   "outputs": [],
   "source": []
  },
  {
   "cell_type": "markdown",
   "metadata": {
    "vscode": {
     "languageId": "plaintext"
    }
   },
   "source": [
    "\n",
    "```sql\n",
    "-- How many intra-binary edges are in Ghidra's call-graph?\n",
    "\n",
    "WITH dynlibs AS (\n",
    "\tSELECT *\n",
    "\tFROM bsim.exetable\n",
    "\tWHERE name_exec = 'unknown'\n",
    ")\n",
    "SELECT count(*)\n",
    "FROM bsim.callgraphtable AS cg\n",
    "\tJOIN bsim.desctable AS src ON (\n",
    "\t\tcg.src = src.id\n",
    "\t)\n",
    "\tJOIN bsim.desctable AS dst ON (\n",
    "\t\tcg.dest = dst.id\n",
    "\t)\n",
    "WHERE NOT EXISTS (SELECT * FROM dynlibs WHERE src.id_exe = dynlibs.id) AND\n",
    "NOT EXISTS (SELECT * FROM dynlibs WHERE dst.id_exe = dynlibs.id)\n",
    "\n",
    "```\n",
    "\n",
    "```sql\n",
    "-- Does it match the amount of edges in our call-graph?\n",
    "-- Turns out we loose very vew.\n",
    "\n",
    "SELECT count(*)\n",
    "FROM call_graph_edge\n",
    "```"
   ]
  }
 ],
 "metadata": {
  "kernelspec": {
   "display_name": "evaluatie-BmReXb80-py3.12",
   "language": "python",
   "name": "python3"
  },
  "language_info": {
   "codemirror_mode": {
    "name": "ipython",
    "version": 3
   },
   "file_extension": ".py",
   "mimetype": "text/x-python",
   "name": "python",
   "nbconvert_exporter": "python",
   "pygments_lexer": "ipython3",
   "version": "3.12.4"
  }
 },
 "nbformat": 4,
 "nbformat_minor": 2
}
