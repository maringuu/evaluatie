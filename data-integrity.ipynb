{
 "cells": [
  {
   "cell_type": "markdown",
   "metadata": {},
   "source": [
    "# Data Integrity\n",
    "In this notebook, we do several sanity checks on our data.\n",
    "If the sanity checks are not fulfilled either something went wrong,\n",
    "or our assumptions were wrong."
   ]
  },
  {
   "cell_type": "markdown",
   "metadata": {},
   "source": [
    "## Ghidra Function to IDA Function Mapping\n",
    "We use Ghidra for decompilation but our ground truth set uses IDA.\n",
    "In this section, we validate that our database looks as if we never used IDA, but only Ghidra."
   ]
  },
  {
   "cell_type": "markdown",
   "metadata": {
    "vscode": {
     "languageId": "plaintext"
    }
   },
   "source": [
    "```sql\n",
    "SELECT count(*)\n",
    "FROM bsim.desctable\n",
    "```"
   ]
  },
  {
   "cell_type": "code",
   "execution_count": null,
   "metadata": {
    "vscode": {
     "languageId": "plaintext"
    }
   },
   "outputs": [],
   "source": []
  },
  {
   "cell_type": "markdown",
   "metadata": {
    "vscode": {
     "languageId": "plaintext"
    }
   },
   "source": [
    "```sql\n",
    "-- Select all binaries that are analyzed\n",
    "SELECT b.*\n",
    "FROM \"binary\" AS b\n",
    "\tJOIN bsim.exetable AS e\n",
    "\tON b.md5 = e.md5\n",
    "``` "
   ]
  },
  {
   "cell_type": "code",
   "execution_count": null,
   "metadata": {
    "vscode": {
     "languageId": "plaintext"
    }
   },
   "outputs": [],
   "source": []
  },
  {
   "cell_type": "markdown",
   "metadata": {
    "vscode": {
     "languageId": "plaintext"
    }
   },
   "source": [
    "```sql\n",
    "-- Ensure that we have a vector for a function if and only if the function belongs to the binary.\n",
    "-- Note that statically-linked or compiler-inserted functions belong to the binary.\n",
    "```\n"
   ]
  },
  {
   "cell_type": "code",
   "execution_count": null,
   "metadata": {
    "vscode": {
     "languageId": "plaintext"
    }
   },
   "outputs": [],
   "source": []
  },
  {
   "cell_type": "markdown",
   "metadata": {
    "vscode": {
     "languageId": "plaintext"
    }
   },
   "source": [
    "\n",
    "```sql\n",
    "-- Which functions have different names in Ghidra/IDA.\n",
    "\n",
    "WITH binary_analyzed AS\n",
    "\t(SELECT b.id as binary_id, e.id as executable_id\n",
    "\tFROM \"binary\" AS b\n",
    "\tJOIN bsim.exetable AS e\n",
    "\tON b.md5 = e.md5),\n",
    "function_data AS (\n",
    "\tSELECT f.id AS id, f.offset + b.image_base AS address, b.id AS binary_id, f.name\n",
    "\tFROM \"function\" AS f JOIN \"binary\" AS b ON f.binary_id = b.id\n",
    ")\n",
    "\t\n",
    "SELECT *\n",
    "FROM bsim.desctable AS description\n",
    "\t-- Join all analyzed binaries to discard linked functions\n",
    "\tJOIN binary_analyzed ON (\n",
    "\t\tdescription.id_exe = binary_analyzed.executable_id\n",
    "\t)\n",
    "\t-- Outer join to not discard functions that ghidra found\n",
    "\tLEFT OUTER JOIN function_data ON (\n",
    "\t\tbinary_analyzed.binary_id = function_data.binary_id AND\n",
    "\t\tdescription.addr = function_data.address\n",
    "\t)\n",
    "WHERE NOT (\n",
    "\tfunction_data.name ~ ('^' || description.name_func || '(_[0-9]+)?$')\n",
    ")\n",
    " ```"
   ]
  },
  {
   "cell_type": "code",
   "execution_count": null,
   "metadata": {
    "vscode": {
     "languageId": "plaintext"
    }
   },
   "outputs": [],
   "source": []
  },
  {
   "cell_type": "markdown",
   "metadata": {
    "vscode": {
     "languageId": "plaintext"
    }
   },
   "source": [
    "```sql\n",
    "-- Which functions did Ghidra find, that IDA did not find?\n",
    "\n",
    "\t\n",
    "SELECT *\n",
    "FROM bsim.desctable AS description\n",
    "\t-- Join all analyzed binaries to discard linked functions\n",
    "\tJOIN binary_analyzed ON (\n",
    "\t\tdescription.id_exe = binary_analyzed.executable_id\n",
    "\t)\n",
    "\t-- Outer join to not discard functions that ghidra found\n",
    "\tLEFT OUTER JOIN function_data ON (\n",
    "\t\tbinary_analyzed.binary_id = function_data.binary_id AND\n",
    "\t\tdescription.addr = function_data.address\n",
    "\t\t-- In Ghidra, multiple functions (as defined by their address) can have the same name.\n",
    "\t\t-- In IDA, a counter is appended.\n",
    "\t\tAND function_data.name ~ ('^' || description.name_func || '(_[0-9]+)?$')\n",
    "\t)\n",
    "--WHERE function_data.id IS NULL\n",
    "```\n"
   ]
  },
  {
   "cell_type": "code",
   "execution_count": null,
   "metadata": {
    "vscode": {
     "languageId": "plaintext"
    }
   },
   "outputs": [],
   "source": []
  },
  {
   "cell_type": "markdown",
   "metadata": {
    "vscode": {
     "languageId": "plaintext"
    }
   },
   "source": [
    "\n",
    "```sql\n",
    "-- How many intra-binary edges are in Ghidra's call-graph?\n",
    "\n",
    "WITH dynlibs AS (\n",
    "\tSELECT *\n",
    "\tFROM bsim.exetable\n",
    "\tWHERE name_exec = 'unknown'\n",
    ")\n",
    "SELECT count(*)\n",
    "FROM bsim.callgraphtable AS cg\n",
    "\tJOIN bsim.desctable AS src ON (\n",
    "\t\tcg.src = src.id\n",
    "\t)\n",
    "\tJOIN bsim.desctable AS dst ON (\n",
    "\t\tcg.dest = dst.id\n",
    "\t)\n",
    "WHERE NOT EXISTS (SELECT * FROM dynlibs WHERE src.id_exe = dynlibs.id) AND\n",
    "NOT EXISTS (SELECT * FROM dynlibs WHERE dst.id_exe = dynlibs.id)\n",
    "\n",
    "```\n",
    "\n",
    "```sql\n",
    "-- Does it match the amount of edges in our call-graph?\n",
    "-- Turns out we loose very vew.\n",
    "\n",
    "SELECT count(*)\n",
    "FROM call_graph_edge\n",
    "```"
   ]
  }
 ],
 "metadata": {
  "language_info": {
   "name": "python"
  }
 },
 "nbformat": 4,
 "nbformat_minor": 2
}
