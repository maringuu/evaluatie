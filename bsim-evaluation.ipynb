{
 "cells": [
  {
   "cell_type": "markdown",
   "metadata": {},
   "source": [
    "# BSim Evaluation\n",
    "\n",
    "In this notebook, we evaluate the performance of BSim."
   ]
  },
  {
   "cell_type": "code",
   "execution_count": null,
   "metadata": {},
   "outputs": [],
   "source": [
    "import rich.pretty\n",
    "\n",
    "rich.pretty.install()"
   ]
  },
  {
   "cell_type": "code",
   "execution_count": null,
   "metadata": {},
   "outputs": [],
   "source": [
    "import pandas as pd\n",
    "import seaborn as sns\n",
    "import matplotlib as mpl\n",
    "from matplotlib import pyplot as plt\n",
    "import numpy as np"
   ]
  },
  {
   "cell_type": "code",
   "execution_count": null,
   "metadata": {},
   "outputs": [],
   "source": [
    "mpl.rc(\n",
    "    \"font\",\n",
    "    size=12,\n",
    ")\n",
    "#mpl.rc(\n",
    "#    \"figure\",\n",
    "#    figsize=(10, 10),\n",
    "#)"
   ]
  },
  {
   "cell_type": "code",
   "execution_count": null,
   "metadata": {},
   "outputs": [],
   "source": [
    "%matplotlib"
   ]
  },
  {
   "cell_type": "code",
   "execution_count": null,
   "metadata": {},
   "outputs": [],
   "source": [
    "import sqlalchemy as sa"
   ]
  },
  {
   "cell_type": "code",
   "execution_count": null,
   "metadata": {},
   "outputs": [],
   "source": [
    "from evaluatie import models as m"
   ]
  },
  {
   "cell_type": "code",
   "execution_count": null,
   "metadata": {},
   "outputs": [],
   "source": [
    "session = m.Session()"
   ]
  },
  {
   "cell_type": "code",
   "execution_count": null,
   "metadata": {},
   "outputs": [],
   "source": [
    "LeftFun = sa.orm.aliased(m.Function)\n",
    "LeftBin = sa.orm.aliased(m.Binary)\n",
    "LeftBuildParams = sa.orm.aliased(m.BuildParameters)\n",
    "\n",
    "RightFun = sa.orm.aliased(m.Function)\n",
    "RightBin = sa.orm.aliased(m.Binary)\n",
    "RightBuildParams = sa.orm.aliased(m.BuildParameters)\n",
    "\n",
    "compare_result = sa.func.lshvector_compare(\n",
    "    LeftFun.vector,\n",
    "    RightFun.vector,\n",
    ")\n",
    "\n",
    "sim = compare_result.scalar_table_valued(\"sim\")\n",
    "\n",
    "stmt = (\n",
    "    sa.select(\n",
    "        sim.label(\"sim\"),\n",
    "    )\n",
    "    .select_from(\n",
    "        LeftFun,\n",
    "        RightFun,\n",
    "    )\n",
    "    .join(\n",
    "        LeftBin,\n",
    "        LeftFun.binary,\n",
    "    )\n",
    "    .join(\n",
    "        RightBin,\n",
    "        RightFun.binary,\n",
    "    )\n",
    "    .where(\n",
    "        LeftFun.binary_id != RightFun.binary_id,\n",
    "        LeftBin.package_name == RightBin.package_name,\n",
    "        LeftBin.package_version == RightBin.package_version,\n",
    "    )\n",
    "    .where(\n",
    "        LeftFun.name == RightFun.name,\n",
    "        LeftFun.file == RightFun.file,\n",
    "        LeftFun.lineno == RightFun.lineno,\n",
    "    )\n",
    "    .where(\n",
    "        LeftFun.vector != None,\n",
    "        RightFun.vector != None,\n",
    "    )\n",
    "    .join(\n",
    "        LeftBuildParams,\n",
    "        LeftBin.build_parameters,\n",
    "    )\n",
    "    .join(\n",
    "        RightBuildParams,\n",
    "        RightBin.build_parameters,\n",
    "    )\n",
    "    .where(\n",
    "        LeftBuildParams.optimisation == \"O3\",\n",
    "        RightBuildParams.optimisation == \"O0\",\n",
    "        # LeftBuildParams.optimisation == RightBuildParams.optimisation,\n",
    "        LeftBuildParams.architecture == RightBuildParams.architecture,\n",
    "        LeftBuildParams.compiler_backend == RightBuildParams.compiler_backend,\n",
    "        LeftBuildParams.compiler_version == RightBuildParams.compiler_version,\n",
    "        LeftBuildParams.bitness == RightBuildParams.bitness,\n",
    "    )\n",
    ")"
   ]
  },
  {
   "cell_type": "code",
   "execution_count": null,
   "metadata": {},
   "outputs": [],
   "source": [
    "df = pd.read_sql(stmt, con=m.engine)\n",
    "df"
   ]
  },
  {
   "cell_type": "code",
   "execution_count": null,
   "metadata": {},
   "outputs": [],
   "source": [
    "fig, ax = plt.subplots()\n",
    "\n",
    "sns.histplot(\n",
    "    df[\"sim\"],\n",
    "    binwidth=0.1,\n",
    "    binrange=(0, 1),\n",
    "    stat=\"probability\",\n",
    "    color=\"blue\",\n",
    "    ax=ax,\n",
    ")\n",
    "ax.set_xticks(np.linspace(0, 1.0, 11))\n",
    "ax.set_xlabel(\"BSim Similarity\")\n",
    "ax.set_ylabel(\"Percentage\")\n",
    "ax.set_title(\"Histogram of self-similarity [O0 vs. O3]\")\n",
    "\n",
    "\n",
    "for container in ax.containers:\n",
    "    ax.bar_label(container, fmt=\"{:.0%}\")\n",
    "\n",
    "fig.savefig(\n",
    "    \"out/bsim:histogram.pdf\",\n",
    "    transparent=None,\n",
    "    bbox_inches=\"tight\",\n",
    ")"
   ]
  },
  {
   "cell_type": "code",
   "execution_count": null,
   "metadata": {},
   "outputs": [],
   "source": [
    "fig, ax = plt.subplots()\n",
    "\n",
    "sns.histplot(\n",
    "    df[\"sim\"],\n",
    "    binwidth=0.1,\n",
    "    binrange=(0, 1),\n",
    "    stat=\"probability\",\n",
    "    cumulative=True,\n",
    "    color=\"blue\",\n",
    "    ax=ax,\n",
    ")\n",
    "ax.set_xticks(np.linspace(0, 1.0, 11))\n",
    "ax.set_xlabel(\"BSim Similarity\")\n",
    "ax.set_ylabel(\"Percentage\")\n",
    "ax.set_title(\"Cumulative Histogram of self-similarity [O0 vs. O3]\")\n",
    "\n",
    "\n",
    "for container in ax.containers:\n",
    "    ax.bar_label(container, fmt=\"{:.0%}\")\n",
    "\n",
    "fig.savefig(\n",
    "    \"out/bsim:cumulative-histogram.pdf\",\n",
    "    transparent=None,\n",
    "    bbox_inches=\"tight\",\n",
    ")"
   ]
  },
  {
   "cell_type": "code",
   "execution_count": null,
   "metadata": {},
   "outputs": [],
   "source": []
  },
  {
   "cell_type": "markdown",
   "metadata": {},
   "source": []
  }
 ],
 "metadata": {
  "kernelspec": {
   "display_name": "studeerwerk-evaluation-urcm250o-py3.12",
   "language": "python",
   "name": "python3"
  },
  "language_info": {
   "codemirror_mode": {
    "name": "ipython",
    "version": 3
   },
   "file_extension": ".py",
   "mimetype": "text/x-python",
   "name": "python",
   "nbconvert_exporter": "python",
   "pygments_lexer": "ipython3",
   "version": "3.12.3"
  }
 },
 "nbformat": 4,
 "nbformat_minor": 2
}
