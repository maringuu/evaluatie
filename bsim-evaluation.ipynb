{
 "cells": [
  {
   "cell_type": "markdown",
   "metadata": {},
   "source": [
    "# BSim Evaluation\n",
    "\n",
    "In this notebook, we evaluate the performance of BSim."
   ]
  },
  {
   "cell_type": "code",
   "execution_count": null,
   "metadata": {},
   "outputs": [],
   "source": [
    "import rich.pretty\n",
    "\n",
    "rich.pretty.install()"
   ]
  },
  {
   "cell_type": "code",
   "execution_count": null,
   "metadata": {},
   "outputs": [],
   "source": [
    "import pandas as pd\n",
    "import seaborn as sns\n",
    "import matplotlib as mplt\n",
    "from matplotlib import pyplot as plt\n",
    "import numpy as np"
   ]
  },
  {
   "cell_type": "code",
   "execution_count": null,
   "metadata": {},
   "outputs": [],
   "source": [
    "%matplotlib"
   ]
  },
  {
   "cell_type": "code",
   "execution_count": null,
   "metadata": {},
   "outputs": [],
   "source": [
    "import sqlalchemy as sa"
   ]
  },
  {
   "cell_type": "code",
   "execution_count": null,
   "metadata": {},
   "outputs": [],
   "source": [
    "from evaluatie import models as m"
   ]
  },
  {
   "cell_type": "code",
   "execution_count": null,
   "metadata": {},
   "outputs": [],
   "source": [
    "session = m.Session()"
   ]
  },
  {
   "cell_type": "code",
   "execution_count": null,
   "metadata": {},
   "outputs": [],
   "source": [
    "LeftFun = sa.orm.aliased(m.Function)\n",
    "LeftBin = sa.orm.aliased(m.Binary)\n",
    "LeftBuildParams = sa.orm.aliased(m.BuildParameters)\n",
    "\n",
    "RightFun = sa.orm.aliased(m.Function)\n",
    "RightBin = sa.orm.aliased(m.Binary)\n",
    "RightBuildParams = sa.orm.aliased(m.BuildParameters)\n",
    "\n",
    "compare_result = sa.func.lshvector_compare(\n",
    "    LeftFun.vector,\n",
    "    RightFun.vector,\n",
    ")\n",
    "\n",
    "sim = compare_result.scalar_table_valued(\"sim\")\n",
    "\n",
    "stmt = (\n",
    "    sa.select(\n",
    "        sim.label(\"sim\"),\n",
    "    )\n",
    "    .select_from(\n",
    "        LeftFun,\n",
    "        RightFun,\n",
    "    )\n",
    "    .join(\n",
    "        LeftBin,\n",
    "        LeftFun.binary,\n",
    "    )\n",
    "    .join(\n",
    "        RightBin,\n",
    "        RightFun.binary,\n",
    "    )\n",
    "    .where(\n",
    "        LeftFun.binary_id != RightFun.binary_id,\n",
    "        LeftBin.package_name == RightBin.package_name,\n",
    "        LeftBin.package_version == RightBin.package_version,\n",
    "    )\n",
    "    .where(\n",
    "        LeftFun.name == RightFun.name,\n",
    "        LeftFun.file == RightFun.file,\n",
    "        LeftFun.lineno == RightFun.lineno,\n",
    "    ).where(\n",
    "        LeftFun.vector != None,\n",
    "        RightFun.vector != None,\n",
    "    )\n",
    ")\n",
    "\n",
    "rows = list(session.execute(stmt))"
   ]
  },
  {
   "cell_type": "code",
   "execution_count": null,
   "metadata": {},
   "outputs": [],
   "source": [
    "df = pd.read_sql(stmt, con=m.engine)\n",
    "df"
   ]
  },
  {
   "cell_type": "code",
   "execution_count": null,
   "metadata": {},
   "outputs": [],
   "source": [
    "ax = plt.axes()\n",
    "\n",
    "sns.histplot(\n",
    "    df[\"sim\"],\n",
    "    binwidth=0.1,\n",
    "    stat=\"probability\",\n",
    "    label=\"Distribution\",\n",
    "    color=\"blue\",\n",
    "    ax=ax,    \n",
    ")\n",
    "ax.set_xticks(np.linspace(0, 1.0, 11))\n",
    "\n",
    "\n",
    "for container in ax.containers:\n",
    "    ax.bar_label(container, fmt=\"{:.0%}\")\n",
    "\n",
    "ax.legend()\n"
   ]
  },
  {
   "cell_type": "code",
   "execution_count": null,
   "metadata": {},
   "outputs": [],
   "source": [
    "\n",
    "ax = plt.axes()\n",
    "\n",
    "sns.histplot(\n",
    "    df[\"sim\"],\n",
    "    binwidth=0.1,\n",
    "    stat=\"probability\",\n",
    "    cumulative=True,\n",
    "    label=\"Distribution\",\n",
    "    color=\"blue\",\n",
    "    ax=ax,    \n",
    ")\n",
    "ax.set_xticks(np.linspace(0, 1.0, 11))\n",
    "\n",
    "\n",
    "for container in ax.containers:\n",
    "    ax.bar_label(container, fmt=\"{:.0%}\")\n",
    "\n",
    "ax.legend()\n"
   ]
  }
 ],
 "metadata": {
  "kernelspec": {
   "display_name": "studeerwerk-evaluation-urcm250o-py3.12",
   "language": "python",
   "name": "python3"
  },
  "language_info": {
   "codemirror_mode": {
    "name": "ipython",
    "version": 3
   },
   "file_extension": ".py",
   "mimetype": "text/x-python",
   "name": "python",
   "nbconvert_exporter": "python",
   "pygments_lexer": "ipython3",
   "version": "3.12.3"
  }
 },
 "nbformat": 4,
 "nbformat_minor": 2
}
